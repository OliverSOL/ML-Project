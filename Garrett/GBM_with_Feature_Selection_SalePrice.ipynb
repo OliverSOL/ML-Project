{
 "cells": [
  {
   "cell_type": "code",
   "execution_count": 1,
   "metadata": {},
   "outputs": [],
   "source": [
    "import numpy as np\n",
    "import pandas as pd\n",
    "import seaborn as sns\n",
    "import matplotlib.pyplot as plt\n",
    "%matplotlib inline\n",
    "\n",
    "from sklearn.model_selection import train_test_split\n",
    "from sklearn import datasets\n",
    "import sklearn.ensemble\n",
    "\n",
    "plt.style.use('ggplot')"
   ]
  },
  {
   "cell_type": "code",
   "execution_count": 2,
   "metadata": {},
   "outputs": [],
   "source": [
    "housing = pd.read_csv('./data/Ames_HousePrice_withAddress_cleaned.csv')\n",
    "housing.drop(['Unnamed: 0'], axis=1, inplace=True)\n"
   ]
  },
  {
   "cell_type": "code",
   "execution_count": 3,
   "metadata": {},
   "outputs": [],
   "source": [
    "from sklearn.ensemble import GradientBoostingClassifier, GradientBoostingRegressor\n",
    "#dir(sklearn.ensemble)"
   ]
  },
  {
   "cell_type": "code",
   "execution_count": 4,
   "metadata": {},
   "outputs": [
    {
     "data": {
      "text/plain": [
       "<matplotlib.axes._subplots.AxesSubplot at 0x267dce3a908>"
      ]
     },
     "execution_count": 4,
     "metadata": {},
     "output_type": "execute_result"
    },
    {
     "data": {
      "image/png": "[encoded data removed]",
      "text/plain": [
       "<Figure size 432x288 with 1 Axes>"
      ]
     },
     "metadata": {},
     "output_type": "display_data"
    }
   ],
   "source": [
    "housing.plot.scatter(x='GrLivArea', y='SalePrice')"
   ]
  },
  {
   "cell_type": "code",
   "execution_count": 5,
   "metadata": {},
   "outputs": [],
   "source": [
    "housing = housing[(housing['GrLivArea'] <= 4500) & (housing['SalePrice'] < 600000)]"
   ]
  },
  {
   "cell_type": "code",
   "execution_count": 6,
   "metadata": {},
   "outputs": [],
   "source": [
    "#sns.pairplot(housing)"
   ]
  },
  {
   "cell_type": "code",
   "execution_count": 7,
   "metadata": {},
   "outputs": [],
   "source": [
    "X = housing[['GrLivArea', 'LotFrontage', 'LotArea', 'OverallQual', 'OverallCond',\n",
    "            'YearBuilt', 'ExterQual', 'BsmtFinSF1', \n",
    "            'TotalBsmtSF','KitchenAbvGr', 'KitchenQual','Fireplaces', 'GarageArea', \n",
    "            'ScreenPorch','Class_2story_dev', 'Class_duplex','Lot_CulDSac', 'Foundation_Concrete']]\n",
    "\n",
    "y = np.log(housing['SalePrice'])"
   ]
  },
  {
   "cell_type": "code",
   "execution_count": 8,
   "metadata": {},
   "outputs": [],
   "source": [
    "X_train, X_test, y_train, y_test = train_test_split(X, y, test_size=0.2)"
   ]
  },
  {
   "cell_type": "code",
   "execution_count": 9,
   "metadata": {},
   "outputs": [
    {
     "data": {
      "text/plain": [
       "GrLivArea              0\n",
       "LotFrontage            0\n",
       "LotArea                0\n",
       "OverallQual            0\n",
       "OverallCond            0\n",
       "YearBuilt              0\n",
       "ExterQual              0\n",
       "BsmtFinSF1             1\n",
       "TotalBsmtSF            1\n",
       "KitchenAbvGr           0\n",
       "KitchenQual            0\n",
       "Fireplaces             0\n",
       "GarageArea             1\n",
       "ScreenPorch            0\n",
       "Class_2story_dev       0\n",
       "Class_duplex           0\n",
       "Lot_CulDSac            0\n",
       "Foundation_Concrete    0\n",
       "dtype: int64"
      ]
     },
     "execution_count": 9,
     "metadata": {},
     "output_type": "execute_result"
    }
   ],
   "source": [
    "X.isna().sum()"
   ]
  },
  {
   "cell_type": "code",
   "execution_count": 10,
   "metadata": {},
   "outputs": [
    {
     "data": {
      "text/plain": [
       "0"
      ]
     },
     "execution_count": 10,
     "metadata": {},
     "output_type": "execute_result"
    }
   ],
   "source": [
    "y.isna().sum()"
   ]
  },
  {
   "cell_type": "code",
   "execution_count": 11,
   "metadata": {},
   "outputs": [],
   "source": [
    "X_train = X_train.fillna(X_train.mean())\n",
    "X_test  = X_test.fillna(X_test.mean())\n",
    "\n",
    "X = X.fillna(X.mean())"
   ]
  },
  {
   "cell_type": "code",
   "execution_count": 12,
   "metadata": {},
   "outputs": [],
   "source": [
    "gbm = GradientBoostingRegressor()"
   ]
  },
  {
   "cell_type": "code",
   "execution_count": 13,
   "metadata": {},
   "outputs": [
    {
     "name": "stdout",
     "output_type": "stream",
     "text": [
      "--------------------------------------------------\n",
      "The train set R^2 is 0.947\n",
      "The test set R^2 is 0.907\n"
     ]
    }
   ],
   "source": [
    "gbm.fit(X_train,y_train)\n",
    "print('-'*50)\n",
    "print(\"The train set R^2 is %.3f\" %(gbm.score(X_train, y_train)))\n",
    "print(\"The test set R^2 is %.3f\" %(gbm.score(X_test, y_test)))"
   ]
  },
  {
   "cell_type": "code",
   "execution_count": 14,
   "metadata": {},
   "outputs": [],
   "source": [
    "model = gbm.fit(X_train, y_train)\n",
    "y_pred = model.predict(X_test)"
   ]
  },
  {
   "cell_type": "code",
   "execution_count": 15,
   "metadata": {},
   "outputs": [],
   "source": [
    "# from sklearn.metrics import r2_score\n",
    "# r2_score(y_pred, y_test)"
   ]
  },
  {
   "cell_type": "markdown",
   "metadata": {},
   "source": [
    "# Last look at parameters\n"
   ]
  },
  {
   "cell_type": "code",
   "execution_count": 16,
   "metadata": {
    "scrolled": false
   },
   "outputs": [
    {
     "name": "stdout",
     "output_type": "stream",
     "text": [
      "--------------------------------------------------\n",
      "The train set R^2 is 0.959\n",
      "The test set R^2 is 0.920\n"
     ]
    }
   ],
   "source": [
    "gbm.set_params(learning_rate=0.1, n_estimators=1000, max_depth=2, max_features=3, subsample=0.9, warm_start=False)\n",
    "gbm.fit(X_train,y_train)\n",
    "print('-'*50)\n",
    "print(\"The train set R^2 is %.3f\" %(gbm.score(X_train, y_train)))\n",
    "print(\"The test set R^2 is %.3f\" %(gbm.score(X_test, y_test)))"
   ]
  },
  {
   "cell_type": "code",
   "execution_count": 17,
   "metadata": {},
   "outputs": [],
   "source": [
    "from sklearn.metrics import r2_score\n",
    "\n",
    "gen_train = gbm.staged_predict(X_train)\n",
    "gen_test  = gbm.staged_predict(X_test)\n",
    "\n",
    "trainR2 = []\n",
    "testR2  = []\n",
    "steps   = range(1,1000)\n",
    "for n in steps:\n",
    "    y_pred_train = next(gen_train)\n",
    "    y_pred_test  = next(gen_test)\n",
    "    trainR2.append(r2_score(y_pred_train, y_train))\n",
    "    testR2.append(r2_score(y_pred_test, y_test))"
   ]
  },
  {
   "cell_type": "code",
   "execution_count": 18,
   "metadata": {},
   "outputs": [
    {
     "data": {
      "text/plain": [
       "Text(0, 0.5, '$R^2$')"
      ]
     },
     "execution_count": 18,
     "metadata": {},
     "output_type": "execute_result"
    },
    {
     "data": {
      "image/png": "[encoded data removed]",
      "text/plain": [
       "<Figure size 432x288 with 1 Axes>"
      ]
     },
     "metadata": {},
     "output_type": "display_data"
    }
   ],
   "source": [
    "start = 30\n",
    "end   = 300\n",
    "plt.plot(steps[start:end], trainR2[start:end],label='train')\n",
    "plt.plot(steps[start:end], testR2[start:end],label='test')\n",
    "plt.xlabel('n_estimators')\n",
    "plt.ylabel(r'$R^2$')"
   ]
  },
  {
   "cell_type": "code",
   "execution_count": 19,
   "metadata": {},
   "outputs": [],
   "source": [
    "# LR = {'n_estimators':[70, 75, 80, 90, 100, 125, 150, 250, 300], \\\n",
    "#       'max_depth':[1,2,3,4,5], 'max_features': [1, 2, 3, 4, 5]}\n",
    "\n",
    "# tuning = GridSearchCV(estimator = GradientBoostingRegressor(),\n",
    "#                      param_grid = LR, scoring = 'r2')\n",
    "\n",
    "# tuning.fit(X_train, y_train)\n",
    "# tuning.best_params_, tuning.best_score_"
   ]
  },
  {
   "cell_type": "code",
   "execution_count": 20,
   "metadata": {},
   "outputs": [
    {
     "name": "stdout",
     "output_type": "stream",
     "text": [
      "--------------------------------------------------\n",
      "The train set R^2 is 0.945\n",
      "The test set R^2 is 0.923\n"
     ]
    }
   ],
   "source": [
    "gbm.set_params(learning_rate=0.09, n_estimators=500, max_depth=2, max_features=3, subsample=.9, warm_start=False)\n",
    "gbm.fit(X_train, y_train)\n",
    "print('-'*50)\n",
    "print(\"The train set R^2 is %.3f\" %(gbm.score(X_train, y_train)))\n",
    "print(\"The test set R^2 is %.3f\" %(gbm.score(X_test, y_test)))"
   ]
  },
  {
   "cell_type": "code",
   "execution_count": 21,
   "metadata": {},
   "outputs": [],
   "source": [
    "from sklearn.metrics import r2_score\n",
    "\n",
    "gen_train = gbm.staged_predict(X_train)\n",
    "gen_test  = gbm.staged_predict(X_test)\n",
    "\n",
    "trainR2 = []\n",
    "testR2  = []\n",
    "steps   = range(1,500)\n",
    "for n in steps:\n",
    "    y_pred_train = next(gen_train)\n",
    "    y_pred_test  = next(gen_test)\n",
    "    trainR2.append(r2_score(y_pred_train, y_train))\n",
    "    testR2.append(r2_score(y_pred_test, y_test))"
   ]
  },
  {
   "cell_type": "code",
   "execution_count": 22,
   "metadata": {},
   "outputs": [
    {
     "data": {
      "text/plain": [
       "Text(0, 0.5, '$R^2$')"
      ]
     },
     "execution_count": 22,
     "metadata": {},
     "output_type": "execute_result"
    },
    {
     "data": {
      "image/png": "[encoded data removed]",
      "text/plain": [
       "<Figure size 432x288 with 1 Axes>"
      ]
     },
     "metadata": {},
     "output_type": "display_data"
    }
   ],
   "source": [
    "start = 30\n",
    "end   = 200\n",
    "plt.plot(steps[start:end], trainR2[start:end],label='train')\n",
    "plt.plot(steps[start:end], testR2[start:end],label='test')\n",
    "plt.xlabel('n_estimators')\n",
    "plt.ylabel(r'$R^2$')"
   ]
  },
  {
   "cell_type": "code",
   "execution_count": 23,
   "metadata": {},
   "outputs": [
    {
     "name": "stdout",
     "output_type": "stream",
     "text": [
      "--------------------------------------------------\n",
      "The train set R^2 is 0.916\n",
      "The test set R^2 is 0.909\n"
     ]
    }
   ],
   "source": [
    "gbm.set_params(learning_rate=0.09, n_estimators=100, max_depth=2, max_features=3, subsample=.9, warm_start=False)\n",
    "gbm.fit(X_train, y_train)\n",
    "print('-'*50)\n",
    "print(\"The train set R^2 is %.3f\" %(gbm.score(X_train, y_train)))\n",
    "print(\"The test set R^2 is %.3f\" %(gbm.score(X_test, y_test)))"
   ]
  },
  {
   "cell_type": "code",
   "execution_count": 24,
   "metadata": {},
   "outputs": [
    {
     "data": {
      "text/plain": [
       "GradientBoostingRegressor(alpha=0.9, ccp_alpha=0.0, criterion='friedman_mse',\n",
       "                          init=None, learning_rate=0.09, loss='ls', max_depth=2,\n",
       "                          max_features=3, max_leaf_nodes=None,\n",
       "                          min_impurity_decrease=0.0, min_impurity_split=None,\n",
       "                          min_samples_leaf=1, min_samples_split=2,\n",
       "                          min_weight_fraction_leaf=0.0, n_estimators=100,\n",
       "                          n_iter_no_change=None, presort='deprecated',\n",
       "                          random_state=None, subsample=0.9, tol=0.0001,\n",
       "                          validation_fraction=0.1, verbose=0, warm_start=False)"
      ]
     },
     "execution_count": 24,
     "metadata": {},
     "output_type": "execute_result"
    }
   ],
   "source": [
    "gbm.fit(X, y)"
   ]
  },
  {
   "cell_type": "code",
   "execution_count": 25,
   "metadata": {},
   "outputs": [
    {
     "data": {
      "text/plain": [
       "0.9111467323432128"
      ]
     },
     "execution_count": 25,
     "metadata": {},
     "output_type": "execute_result"
    }
   ],
   "source": [
    "gbm.score(X, y)"
   ]
  },
  {
   "cell_type": "code",
   "execution_count": 26,
   "metadata": {},
   "outputs": [],
   "source": [
    "importance = sorted(list(zip(X.columns, list(gbm.feature_importances_))), key=lambda t:t[1], reverse=True)"
   ]
  },
  {
   "cell_type": "code",
   "execution_count": 27,
   "metadata": {},
   "outputs": [
    {
     "data": {
      "text/plain": [
       "Text(0.5, 1.0, 'feature importance of a gbm classifier')"
      ]
     },
     "execution_count": 27,
     "metadata": {},
     "output_type": "execute_result"
    },
    {
     "data": {
      "image/png": "[encoded data removed]",
      "text/plain": [
       "<Figure size 432x288 with 1 Axes>"
      ]
     },
     "metadata": {},
     "output_type": "display_data"
    }
   ],
   "source": [
    "a, b = zip(*importance)\n",
    "importance_score = pd.DataFrame({'feature':a, 'score':b})\n",
    "importance_score.plot.bar(x='feature', y='score', legend=None)\n",
    "plt.title('feature importance of a gbm classifier')"
   ]
  },
  {
   "cell_type": "code",
   "execution_count": null,
   "metadata": {},
   "outputs": [],
   "source": []
  }
 ],
 "metadata": {
  "kernelspec": {
   "display_name": "Python 3",
   "language": "python",
   "name": "python3"
  },
  "language_info": {
   "codemirror_mode": {
    "name": "ipython",
    "version": 3
   },
   "file_extension": ".py",
   "mimetype": "text/x-python",
   "name": "python",
   "nbconvert_exporter": "python",
   "pygments_lexer": "ipython3",
   "version": "3.7.6"
  }
 },
 "nbformat": 4,
 "nbformat_minor": 4
}
