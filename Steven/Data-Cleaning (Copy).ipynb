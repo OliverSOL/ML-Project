{
 "cells": [
  {
   "cell_type": "code",
   "execution_count": 3,
   "metadata": {},
   "outputs": [
    {
     "data": {
      "text/plain": [
       "(2580, 81)"
      ]
     },
     "execution_count": 3,
     "metadata": {},
     "output_type": "execute_result"
    }
   ],
   "source": [
    "import numpy as np\n",
    "import pandas as pd\n",
    "%matplotlib inline \n",
    "# Option to display all dataframes columns\n",
    "pd.options.display.max_columns = None\n",
    "\n",
    "housing = pd.read_csv('Ames_HousePrice.csv', index_col=0)\n",
    "housing.shape"
   ]
  },
  {
   "cell_type": "code",
   "execution_count": 4,
   "metadata": {},
   "outputs": [],
   "source": [
    "#Initialize dictionaries for changing categorical variables to numeric\n",
    "qual_dict = {'Po':1,'Fa':2,'TA':3,'Gd':4,'Ex':5}\n",
    "mssubclass_dict = {20:'1story',30:'1story',40:'1story',\n",
    "                   45:'1.5story',50:'1.5story',\n",
    "                   60:'2story',70:'2story',75:'2story',\n",
    "                   80:'split',85:'split',\n",
    "                   120:'1story_dev',150:'1story_dev',\n",
    "                   160:'2story_dev',180:'2story_dev',\n",
    "                   90:'duplex',190:'duplex',}\n",
    "mszoning_dict = {'RL':0,'RM':1,'FV':1,'RH':1,'C (all)':1,'I (all)':1,'A (agr)':1}\n",
    "lotshape_dict = {'Reg':0,'IR1':1,'IR2':1,'IR3':1}\n",
    "landcontour_dict = {'Lvl':0,'HLS':1,'Bnk':1,'Low':1}\n",
    "lotconfig_dict = {'FR2':'FR','FR3':'FR'}\n",
    "landslope_dict = {'Gtl':0,'Mod':1,'Sev':1}\n",
    "roofstyle_dict = {'Gable':0,'Hip':1,'Gambrel':1,'Flat':1,'Mansard':1,'Shed':1}\n",
    "foundation_dict = {'CBlock':'Cinder','PConc':'Concrete','BrkTil':'Other','Slab':'Other','Stone':'Other','Wood':'Other'}\n",
    "bsmtfintype_dict = {'Unf':1,'LwQ':2,'Rec':3,'BLQ':4,'ALQ':5,'GLQ':6}\n",
    "centralair_dict = {'N':0,'Y':1}\n",
    "electrical_dict = {'SBrkr':0,'FuseA':1,'FuseF':1,'FuseP':1}\n",
    "functional_dict = {'Sal':0,'Sev':1,'Maj2':2,'Maj1':3,'Mod':4,'Min2':5,'Min1':6,'Typ':7}\n",
    "garagetype_dict = {'Attchd':2,'Detchd':1,'BuiltIn':1,'Basment':1,'2Types':1,'CarPort':1}\n",
    "garagefinish_dict = {'Unf':1,'RFn':2,'Fin':3}\n",
    "paveddrive_dict = {'N':0,'P':0,'Y':1}\n",
    "fence_dict = {'MnWw':1,'GdWo':2,'MnPrv':3,'GdPrv':4}\n",
    "\n",
    "#Dictionary of dictionaries to apply a specific dict to the right column\n",
    "cleanup_dict = {'MSSubClass':mssubclass_dict,\n",
    "                'MSZoning':mszoning_dict,\n",
    "                'LotShape':lotshape_dict,\n",
    "                'LandContour':landcontour_dict,\n",
    "                'LotConfig':lotconfig_dict,\n",
    "                'LandSlope':landslope_dict,\n",
    "                'RoofStyle':roofstyle_dict, \n",
    "                'ExterQual':qual_dict,\n",
    "                'ExterCond':qual_dict,\n",
    "                'Foundation':foundation_dict,\n",
    "                'BsmtQual':qual_dict,\n",
    "                'BsmtCond':qual_dict,\n",
    "                'BsmtFinType1':bsmtfintype_dict,\n",
    "                'BsmtFinType2':bsmtfintype_dict,\n",
    "                'HeatingQC':qual_dict,\n",
    "                'CentralAir':centralair_dict,\n",
    "                'Electrical':electrical_dict,\n",
    "                'KitchenQual':qual_dict,\n",
    "                'Functional':functional_dict,\n",
    "                'FireplaceQu':qual_dict,\n",
    "                'GarageType':garagetype_dict,\n",
    "                'GarageFinish':garagefinish_dict,\n",
    "                'GarageQual':qual_dict,\n",
    "                'GarageCond':qual_dict,\n",
    "                'PavedDrive':paveddrive_dict,\n",
    "                'Fence':fence_dict\n",
    "               }\n",
    "#Clean data\n",
    "housing.replace(to_replace=cleanup_dict,value=None,inplace=True)\n",
    "\n",
    "#Fill NAs (these are mostly adding a zero if the house doesn't have the feature)\n",
    "housing.MasVnrArea.fillna(value=0,inplace=True)\n",
    "housing.BsmtQual.fillna(value=0,inplace=True)\n",
    "housing.BsmtCond.fillna(value=0,inplace=True)\n",
    "housing.BsmtFinType1.fillna(value=0,inplace=True)\n",
    "housing.BsmtFinType2.fillna(value=0,inplace=True)\n",
    "housing.BsmtFinSF1.fillna(value=0,inplace=True)\n",
    "housing.BsmtFinSF2.fillna(value=0,inplace=True)\n",
    "housing.BsmtUnfSF.fillna(value=0,inplace=True)\n",
    "housing.TotalBsmtSF.fillna(value=0,inplace=True)\n",
    "housing.FireplaceQu.fillna(value=0,inplace=True)\n",
    "housing.GarageFinish.fillna(value=0,inplace=True)\n",
    "housing.GarageQual.fillna(value=0,inplace=True)\n",
    "housing.GarageCond.fillna(value=0,inplace=True)\n",
    "housing.Fence.fillna(value=0,inplace=True)\n",
    "housing.LotFrontage.fillna(value=0,inplace=True)\n",
    "housing.Electrical.fillna(value=0,inplace=True)\n",
    "housing.GarageCars.fillna(value=0,inplace=True)\n",
    "housing.GarageArea.fillna(value=0,inplace=True)\n",
    "housing.GarageType.fillna(value=0,inplace=True)\n",
    "housing.BsmtFullBath.fillna(value=0,inplace=True)\n",
    "housing.BsmtHalfBath.fillna(value=0,inplace=True)\n",
    "\n",
    "\n",
    "#Creating a new total bathroom number feature\n",
    "housing['Baths'] = housing['BsmtFullBath'] + (housing['BsmtHalfBath']/2) + housing['FullBath']+ (housing['HalfBath']/2)\n",
    "\n",
    "#Dummify the remaining categorical features.\n",
    "dummies = pd.get_dummies(data=housing.MSSubClass,prefix='Class')\n",
    "dummies = dummies.drop(columns=['Class_1story'])\n",
    "housing = pd.concat([housing,dummies],axis=1)\n",
    "\n",
    "dummies = pd.get_dummies(data=housing.LotConfig,prefix='Lot')\n",
    "dummies = dummies.drop(columns=['Lot_Inside'])\n",
    "housing = pd.concat([housing,dummies],axis=1)\n",
    "\n",
    "dummies = pd.get_dummies(data=housing.Foundation,prefix='Foundation')\n",
    "dummies = dummies.drop(columns=['Foundation_Cinder'])\n",
    "housing = pd.concat([housing,dummies],axis=1)\n",
    "\n",
    "#Drop columns\n",
    "housing.drop(columns=['PID','Street','Alley','Utilities','Neighborhood','Condition1',\n",
    "                    'Condition2','BldgType','HouseStyle', 'RoofMatl',\n",
    "                    'Exterior1st','Exterior2nd','MasVnrType','BsmtExposure',\n",
    "                    'BsmtFinType1','BsmtFinType2','Heating','1stFlrSF','2ndFlrSF','PoolQC',\n",
    "                     'MiscFeature','MiscVal','YrSold','MoSold','SaleType','SaleCondition',\n",
    "                     'BsmtFullBath','BsmtHalfBath','FullBath','HalfBath','MSSubClass',\n",
    "                     'LotConfig','Foundation','GarageYrBlt'],inplace=True)\n"
   ]
  },
  {
   "cell_type": "code",
   "execution_count": 5,
   "metadata": {
    "scrolled": true
   },
   "outputs": [
    {
     "name": "stdout",
     "output_type": "stream",
     "text": [
      "<class 'pandas.core.frame.DataFrame'>\n",
      "Int64Index: 2580 entries, 1 to 763\n",
      "Data columns (total 59 columns):\n",
      " #   Column               Non-Null Count  Dtype  \n",
      "---  ------               --------------  -----  \n",
      " 0   GrLivArea            2580 non-null   int64  \n",
      " 1   SalePrice            2580 non-null   int64  \n",
      " 2   MSZoning             2580 non-null   int64  \n",
      " 3   LotFrontage          2580 non-null   float64\n",
      " 4   LotArea              2580 non-null   int64  \n",
      " 5   LotShape             2580 non-null   int64  \n",
      " 6   LandContour          2580 non-null   int64  \n",
      " 7   LandSlope            2580 non-null   int64  \n",
      " 8   OverallQual          2580 non-null   int64  \n",
      " 9   OverallCond          2580 non-null   int64  \n",
      " 10  YearBuilt            2580 non-null   int64  \n",
      " 11  YearRemodAdd         2580 non-null   int64  \n",
      " 12  RoofStyle            2580 non-null   int64  \n",
      " 13  MasVnrArea           2580 non-null   float64\n",
      " 14  ExterQual            2580 non-null   int64  \n",
      " 15  ExterCond            2580 non-null   int64  \n",
      " 16  BsmtQual             2580 non-null   float64\n",
      " 17  BsmtCond             2580 non-null   float64\n",
      " 18  BsmtFinSF1           2580 non-null   float64\n",
      " 19  BsmtFinSF2           2580 non-null   float64\n",
      " 20  BsmtUnfSF            2580 non-null   float64\n",
      " 21  TotalBsmtSF          2580 non-null   float64\n",
      " 22  HeatingQC            2580 non-null   int64  \n",
      " 23  CentralAir           2580 non-null   int64  \n",
      " 24  Electrical           2580 non-null   float64\n",
      " 25  LowQualFinSF         2580 non-null   int64  \n",
      " 26  BedroomAbvGr         2580 non-null   int64  \n",
      " 27  KitchenAbvGr         2580 non-null   int64  \n",
      " 28  KitchenQual          2580 non-null   int64  \n",
      " 29  TotRmsAbvGrd         2580 non-null   int64  \n",
      " 30  Functional           2580 non-null   int64  \n",
      " 31  Fireplaces           2580 non-null   int64  \n",
      " 32  FireplaceQu          2580 non-null   float64\n",
      " 33  GarageType           2580 non-null   float64\n",
      " 34  GarageFinish         2580 non-null   float64\n",
      " 35  GarageCars           2580 non-null   float64\n",
      " 36  GarageArea           2580 non-null   float64\n",
      " 37  GarageQual           2580 non-null   float64\n",
      " 38  GarageCond           2580 non-null   float64\n",
      " 39  PavedDrive           2580 non-null   int64  \n",
      " 40  WoodDeckSF           2580 non-null   int64  \n",
      " 41  OpenPorchSF          2580 non-null   int64  \n",
      " 42  EnclosedPorch        2580 non-null   int64  \n",
      " 43  3SsnPorch            2580 non-null   int64  \n",
      " 44  ScreenPorch          2580 non-null   int64  \n",
      " 45  PoolArea             2580 non-null   int64  \n",
      " 46  Fence                2580 non-null   float64\n",
      " 47  Baths                2580 non-null   float64\n",
      " 48  Class_1.5story       2580 non-null   uint8  \n",
      " 49  Class_1story_dev     2580 non-null   uint8  \n",
      " 50  Class_2story         2580 non-null   uint8  \n",
      " 51  Class_2story_dev     2580 non-null   uint8  \n",
      " 52  Class_duplex         2580 non-null   uint8  \n",
      " 53  Class_split          2580 non-null   uint8  \n",
      " 54  Lot_Corner           2580 non-null   uint8  \n",
      " 55  Lot_CulDSac          2580 non-null   uint8  \n",
      " 56  Lot_FR               2580 non-null   uint8  \n",
      " 57  Foundation_Concrete  2580 non-null   uint8  \n",
      " 58  Foundation_Other     2580 non-null   uint8  \n",
      "dtypes: float64(18), int64(30), uint8(11)\n",
      "memory usage: 1015.4 KB\n"
     ]
    }
   ],
   "source": [
    "housing.info()"
   ]
  },
  {
   "cell_type": "code",
   "execution_count": 6,
   "metadata": {},
   "outputs": [],
   "source": [
    "housing.to_csv('Ames_HousePrice_cleaned.csv')"
   ]
  },
  {
   "cell_type": "markdown",
   "metadata": {},
   "source": [
    "---"
   ]
  },
  {
   "cell_type": "markdown",
   "metadata": {},
   "source": [
    "### LassoCV"
   ]
  },
  {
   "cell_type": "code",
   "execution_count": 7,
   "metadata": {},
   "outputs": [],
   "source": [
    "from sklearn.linear_model import LassoCV\n",
    "from sklearn.model_selection import train_test_split"
   ]
  },
  {
   "cell_type": "code",
   "execution_count": 8,
   "metadata": {},
   "outputs": [],
   "source": [
    "X = housing.drop('SalePrice',axis=1)\n",
    "y = housing['SalePrice']\n",
    "X_train,X_test,y_train,y_test = train_test_split(X, y, test_size=0.2,random_state=42)"
   ]
  },
  {
   "cell_type": "code",
   "execution_count": 32,
   "metadata": {},
   "outputs": [],
   "source": [
    "lcv = LassoCV(normalize=True).fit(X_train,y_train)\n"
   ]
  },
  {
   "cell_type": "code",
   "execution_count": 33,
   "metadata": {},
   "outputs": [
    {
     "name": "stdout",
     "output_type": "stream",
     "text": [
      "train score: 0.8863079452581605\n",
      "test score: 0.8860497099905316\n"
     ]
    }
   ],
   "source": [
    "print('train score:',lcv.score(X_train,y_train))\n",
    "print('test score:',lcv.score(X_test,y_test))"
   ]
  },
  {
   "cell_type": "code",
   "execution_count": 35,
   "metadata": {},
   "outputs": [
    {
     "data": {
      "text/plain": [
       "-715965.5443329096"
      ]
     },
     "execution_count": 35,
     "metadata": {},
     "output_type": "execute_result"
    }
   ],
   "source": [
    "lcv.intercept_"
   ]
  },
  {
   "cell_type": "code",
   "execution_count": 11,
   "metadata": {},
   "outputs": [
    {
     "data": {
      "text/plain": [
       "ExterQual              11035.415269\n",
       "OverallQual            10553.101636\n",
       "LandSlope               8052.863370\n",
       "KitchenQual             7237.322169\n",
       "OverallCond             5646.887409\n",
       "Fireplaces              5624.597025\n",
       "Foundation_Concrete     5383.238127\n",
       "Foundation_Other        5301.397729\n",
       "Lot_CulDSac             5277.942342\n",
       "Functional              5181.704652\n",
       "BsmtQual                4794.939067\n",
       "LotShape                2883.470084\n",
       "Electrical              2425.920316\n",
       "RoofStyle               2146.529501\n",
       "HeatingQC               1388.286218\n",
       "dtype: float64"
      ]
     },
     "execution_count": 11,
     "metadata": {},
     "output_type": "execute_result"
    }
   ],
   "source": [
    "pd.Series(lcv.coef_, index=X.columns).sort_values(ascending=False).nlargest(15)"
   ]
  },
  {
   "cell_type": "markdown",
   "metadata": {},
   "source": [
    "## np log LassoCV"
   ]
  },
  {
   "cell_type": "code",
   "execution_count": 12,
   "metadata": {},
   "outputs": [
    {
     "name": "stdout",
     "output_type": "stream",
     "text": [
      "The train set R^2 is 0.906\n",
      "The test set R^2 is 0.920\n"
     ]
    }
   ],
   "source": [
    "features = housing.drop('SalePrice', axis=1)\n",
    "target = np.log(housing['SalePrice'])\n",
    "X_train1,X_test1,y_train1,y_test1 = train_test_split(features, target, test_size=0.2,random_state=42)\n",
    "\n",
    "lcvlog = LassoCV(normalize=True).fit(X_train1, y_train1)\n",
    "\n",
    "print(\"The train set R^2 is %.3f\" %(lcvlog.score(X_train1, y_train1)))\n",
    "print(\"The test set R^2 is %.3f\" %(lcvlog.score(X_test1, y_test1)))"
   ]
  },
  {
   "cell_type": "code",
   "execution_count": 13,
   "metadata": {},
   "outputs": [
    {
     "data": {
      "text/plain": [
       "OverallQual            0.069848\n",
       "CentralAir             0.053958\n",
       "OverallCond            0.042618\n",
       "LandSlope              0.035645\n",
       "Fireplaces             0.025993\n",
       "Foundation_Concrete    0.025569\n",
       "PavedDrive             0.024161\n",
       "KitchenQual            0.023048\n",
       "GarageCars             0.021539\n",
       "Functional             0.020298\n",
       "ExterQual              0.017122\n",
       "Baths                  0.016717\n",
       "HeatingQC              0.013476\n",
       "LotShape               0.012492\n",
       "Class_1.5story         0.011383\n",
       "dtype: float64"
      ]
     },
     "execution_count": 13,
     "metadata": {},
     "output_type": "execute_result"
    }
   ],
   "source": [
    "pd.Series(lcvlog.coef_, index=X.columns).sort_values(ascending=False).nlargest(15)"
   ]
  },
  {
   "cell_type": "markdown",
   "metadata": {},
   "source": [
    "---"
   ]
  },
  {
   "cell_type": "code",
   "execution_count": 38,
   "metadata": {},
   "outputs": [],
   "source": [
    "feats = housing[['GrLivArea', 'LotFrontage', 'LotArea', 'OverallQual', 'OverallCond',\n",
    "            'YearBuilt', 'ExterQual', 'BsmtFinSF1', \n",
    "            'TotalBsmtSF','KitchenAbvGr', 'KitchenQual','Fireplaces', 'GarageArea', \n",
    "            'ScreenPorch','Class_2story_dev', 'Class_duplex','Lot_CulDSac', 'Foundation_Concrete']]\n",
    "targs = housing['SalePrice']\n",
    "\n",
    "X_train2,X_test2,y_train2,y_test2 = train_test_split(feats, targs, test_size=0.2,random_state=42)"
   ]
  },
  {
   "cell_type": "code",
   "execution_count": 39,
   "metadata": {},
   "outputs": [
    {
     "name": "stdout",
     "output_type": "stream",
     "text": [
      "train score:  0.8677470652518091\n",
      "test score:  0.8685712807631175\n"
     ]
    }
   ],
   "source": [
    "lcv = LassoCV(normalize=True).fit(X_train2, y_train2)\n",
    "print('train score: ',lcv.score(X_train2,y_train2))\n",
    "print('test score: ',lcv.score(X_test2,y_test2))"
   ]
  },
  {
   "cell_type": "code",
   "execution_count": 40,
   "metadata": {},
   "outputs": [
    {
     "data": {
      "text/plain": [
       "ExterQual              15115.150914\n",
       "OverallQual            11278.667359\n",
       "KitchenQual             8966.072474\n",
       "Lot_CulDSac             8113.718520\n",
       "Fireplaces              7040.967812\n",
       "Foundation_Concrete     6495.444084\n",
       "OverallCond             4684.012011\n",
       "YearBuilt                246.304700\n",
       "LotFrontage              106.933281\n",
       "GrLivArea                 49.919106\n",
       "ScreenPorch               42.669911\n",
       "GarageArea                29.914517\n",
       "BsmtFinSF1                23.295081\n",
       "TotalBsmtSF               21.144795\n",
       "LotArea                    0.532227\n",
       "Class_duplex           -7235.465526\n",
       "Class_2story_dev       -9200.715252\n",
       "KitchenAbvGr           -9738.832873\n",
       "dtype: float64"
      ]
     },
     "execution_count": 40,
     "metadata": {},
     "output_type": "execute_result"
    }
   ],
   "source": [
    "pd.Series(lcv.coef_, index=feats.columns).sort_values(ascending=False).nlargest(18)"
   ]
  },
  {
   "cell_type": "markdown",
   "metadata": {},
   "source": [
    "---"
   ]
  },
  {
   "cell_type": "markdown",
   "metadata": {},
   "source": [
    "### Overall Features that have an effect"
   ]
  },
  {
   "cell_type": "code",
   "execution_count": 15,
   "metadata": {},
   "outputs": [],
   "source": [
    "coefs_abs = pd.Series(np.abs(lcv.coef_), index=X.columns).sort_values(ascending=False)"
   ]
  },
  {
   "cell_type": "markdown",
   "metadata": {},
   "source": [
    "## positive features"
   ]
  },
  {
   "cell_type": "markdown",
   "metadata": {},
   "source": [
    "## Feature Analysis"
   ]
  },
  {
   "cell_type": "markdown",
   "metadata": {},
   "source": [
    "### ExterQual\n",
    "\n",
    " - The average home exterior makeover cost is around $7,700\n",
    "     - includes exterior painting, landscaping, door and window updates, porch railing, and decorations. \n",
    " \n",
    " - one of the cheaper parts of your home to revamp, and the value that it adds to your home when it is all said and done makes the investment well worth it.\n",
    "\n",
    "https://www.brickandbatten.com/how-much-does-a-home-exterior-makeover-cost/"
   ]
  },
  {
   "cell_type": "markdown",
   "metadata": {},
   "source": [
    "### Landslope\n",
    "\n",
    "Average Cost to Reslope a Lawn - $1,925 ($400-$5100)\n",
    "https://www.homeadvisor.com/cost/landscape/reslope-a-lawn/"
   ]
  },
  {
   "cell_type": "markdown",
   "metadata": {},
   "source": [
    "### Kitchen Quality\n",
    "\n",
    "- 100-250 (usd) per square foot\n",
    "- 12,800 - 21,200 (usd) range\n",
    "- average cost of $16,600 (usd) or 150 (usd) per square foot\n",
    "\n",
    "https://homeguide.com/costs/kitchen-remodel-cost"
   ]
  },
  {
   "cell_type": "markdown",
   "metadata": {},
   "source": [
    "### Fireplaces\n",
    "\n",
    "National Fireplace Costs\n",
    "- Ranges from $390 (usd) to 2000 (usd)\n",
    "\n",
    "Can boost a home's value by as much as $15,000 in certain parts of the country \n",
    "\n",
    "https://www.improvenet.com/r/costs-and-prices/fireplace-remodeling-cost"
   ]
  },
  {
   "cell_type": "code",
   "execution_count": 16,
   "metadata": {},
   "outputs": [
    {
     "data": {
      "text/plain": [
       "Class_1story_dev   -14164.910740\n",
       "Class_2story_dev   -12961.891234\n",
       "KitchenAbvGr       -10188.844928\n",
       "Class_duplex       -10181.674908\n",
       "BsmtCond            -7571.701243\n",
       "BedroomAbvGr        -6418.576118\n",
       "CentralAir          -4372.219006\n",
       "Lot_FR              -4139.564086\n",
       "GarageType          -3380.887071\n",
       "Class_2story        -3351.448101\n",
       "GarageCond          -2974.123697\n",
       "MSZoning            -2776.190058\n",
       "Class_split         -2598.481713\n",
       "Lot_Corner          -1606.511316\n",
       "ExterCond           -1605.202508\n",
       "dtype: float64"
      ]
     },
     "execution_count": 16,
     "metadata": {},
     "output_type": "execute_result"
    }
   ],
   "source": [
    "pd.Series(lcv.coef_, index=X.columns).sort_values(ascending=False).nsmallest(15)"
   ]
  },
  {
   "cell_type": "code",
   "execution_count": 17,
   "metadata": {},
   "outputs": [],
   "source": [
    "from sklearn.feature_selection import RFE"
   ]
  }
 ],
 "metadata": {
  "kernelspec": {
   "display_name": "Python 3",
   "language": "python",
   "name": "python3"
  },
  "language_info": {
   "codemirror_mode": {
    "name": "ipython",
    "version": 3
   },
   "file_extension": ".py",
   "mimetype": "text/x-python",
   "name": "python",
   "nbconvert_exporter": "python",
   "pygments_lexer": "ipython3",
   "version": "3.8.3"
  }
 },
 "nbformat": 4,
 "nbformat_minor": 2
}
