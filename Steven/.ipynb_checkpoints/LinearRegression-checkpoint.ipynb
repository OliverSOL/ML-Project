{
 "cells": [
  {
   "cell_type": "code",
   "execution_count": 1,
   "metadata": {},
   "outputs": [],
   "source": [
    "import numpy as np\n",
    "import pandas as pd\n",
    "import seaborn as sns\n",
    "import re\n",
    "%matplotlib inline \n",
    "import matplotlib.pyplot as plt"
   ]
  },
  {
   "cell_type": "code",
   "execution_count": 2,
   "metadata": {},
   "outputs": [
    {
     "ename": "FileNotFoundError",
     "evalue": "[Errno 2] No such file or directory: 'newhousing.csv'",
     "output_type": "error",
     "traceback": [
      "\u001b[1;31m---------------------------------------------------------------------------\u001b[0m",
      "\u001b[1;31mFileNotFoundError\u001b[0m                         Traceback (most recent call last)",
      "\u001b[1;32m<ipython-input-2-ba557acb3564>\u001b[0m in \u001b[0;36m<module>\u001b[1;34m\u001b[0m\n\u001b[1;32m----> 1\u001b[1;33m \u001b[0mdf\u001b[0m\u001b[1;33m=\u001b[0m\u001b[0mpd\u001b[0m\u001b[1;33m.\u001b[0m\u001b[0mread_csv\u001b[0m\u001b[1;33m(\u001b[0m\u001b[1;34m'newhousing.csv'\u001b[0m\u001b[1;33m)\u001b[0m\u001b[1;33m\u001b[0m\u001b[1;33m\u001b[0m\u001b[0m\n\u001b[0m",
      "\u001b[1;32mC:\\Anaconda\\lib\\site-packages\\pandas\\io\\parsers.py\u001b[0m in \u001b[0;36mread_csv\u001b[1;34m(filepath_or_buffer, sep, delimiter, header, names, index_col, usecols, squeeze, prefix, mangle_dupe_cols, dtype, engine, converters, true_values, false_values, skipinitialspace, skiprows, skipfooter, nrows, na_values, keep_default_na, na_filter, verbose, skip_blank_lines, parse_dates, infer_datetime_format, keep_date_col, date_parser, dayfirst, cache_dates, iterator, chunksize, compression, thousands, decimal, lineterminator, quotechar, quoting, doublequote, escapechar, comment, encoding, dialect, error_bad_lines, warn_bad_lines, delim_whitespace, low_memory, memory_map, float_precision)\u001b[0m\n\u001b[0;32m    684\u001b[0m     )\n\u001b[0;32m    685\u001b[0m \u001b[1;33m\u001b[0m\u001b[0m\n\u001b[1;32m--> 686\u001b[1;33m     \u001b[1;32mreturn\u001b[0m \u001b[0m_read\u001b[0m\u001b[1;33m(\u001b[0m\u001b[0mfilepath_or_buffer\u001b[0m\u001b[1;33m,\u001b[0m \u001b[0mkwds\u001b[0m\u001b[1;33m)\u001b[0m\u001b[1;33m\u001b[0m\u001b[1;33m\u001b[0m\u001b[0m\n\u001b[0m\u001b[0;32m    687\u001b[0m \u001b[1;33m\u001b[0m\u001b[0m\n\u001b[0;32m    688\u001b[0m \u001b[1;33m\u001b[0m\u001b[0m\n",
      "\u001b[1;32mC:\\Anaconda\\lib\\site-packages\\pandas\\io\\parsers.py\u001b[0m in \u001b[0;36m_read\u001b[1;34m(filepath_or_buffer, kwds)\u001b[0m\n\u001b[0;32m    450\u001b[0m \u001b[1;33m\u001b[0m\u001b[0m\n\u001b[0;32m    451\u001b[0m     \u001b[1;31m# Create the parser.\u001b[0m\u001b[1;33m\u001b[0m\u001b[1;33m\u001b[0m\u001b[1;33m\u001b[0m\u001b[0m\n\u001b[1;32m--> 452\u001b[1;33m     \u001b[0mparser\u001b[0m \u001b[1;33m=\u001b[0m \u001b[0mTextFileReader\u001b[0m\u001b[1;33m(\u001b[0m\u001b[0mfp_or_buf\u001b[0m\u001b[1;33m,\u001b[0m \u001b[1;33m**\u001b[0m\u001b[0mkwds\u001b[0m\u001b[1;33m)\u001b[0m\u001b[1;33m\u001b[0m\u001b[1;33m\u001b[0m\u001b[0m\n\u001b[0m\u001b[0;32m    453\u001b[0m \u001b[1;33m\u001b[0m\u001b[0m\n\u001b[0;32m    454\u001b[0m     \u001b[1;32mif\u001b[0m \u001b[0mchunksize\u001b[0m \u001b[1;32mor\u001b[0m \u001b[0miterator\u001b[0m\u001b[1;33m:\u001b[0m\u001b[1;33m\u001b[0m\u001b[1;33m\u001b[0m\u001b[0m\n",
      "\u001b[1;32mC:\\Anaconda\\lib\\site-packages\\pandas\\io\\parsers.py\u001b[0m in \u001b[0;36m__init__\u001b[1;34m(self, f, engine, **kwds)\u001b[0m\n\u001b[0;32m    944\u001b[0m             \u001b[0mself\u001b[0m\u001b[1;33m.\u001b[0m\u001b[0moptions\u001b[0m\u001b[1;33m[\u001b[0m\u001b[1;34m\"has_index_names\"\u001b[0m\u001b[1;33m]\u001b[0m \u001b[1;33m=\u001b[0m \u001b[0mkwds\u001b[0m\u001b[1;33m[\u001b[0m\u001b[1;34m\"has_index_names\"\u001b[0m\u001b[1;33m]\u001b[0m\u001b[1;33m\u001b[0m\u001b[1;33m\u001b[0m\u001b[0m\n\u001b[0;32m    945\u001b[0m \u001b[1;33m\u001b[0m\u001b[0m\n\u001b[1;32m--> 946\u001b[1;33m         \u001b[0mself\u001b[0m\u001b[1;33m.\u001b[0m\u001b[0m_make_engine\u001b[0m\u001b[1;33m(\u001b[0m\u001b[0mself\u001b[0m\u001b[1;33m.\u001b[0m\u001b[0mengine\u001b[0m\u001b[1;33m)\u001b[0m\u001b[1;33m\u001b[0m\u001b[1;33m\u001b[0m\u001b[0m\n\u001b[0m\u001b[0;32m    947\u001b[0m \u001b[1;33m\u001b[0m\u001b[0m\n\u001b[0;32m    948\u001b[0m     \u001b[1;32mdef\u001b[0m \u001b[0mclose\u001b[0m\u001b[1;33m(\u001b[0m\u001b[0mself\u001b[0m\u001b[1;33m)\u001b[0m\u001b[1;33m:\u001b[0m\u001b[1;33m\u001b[0m\u001b[1;33m\u001b[0m\u001b[0m\n",
      "\u001b[1;32mC:\\Anaconda\\lib\\site-packages\\pandas\\io\\parsers.py\u001b[0m in \u001b[0;36m_make_engine\u001b[1;34m(self, engine)\u001b[0m\n\u001b[0;32m   1176\u001b[0m     \u001b[1;32mdef\u001b[0m \u001b[0m_make_engine\u001b[0m\u001b[1;33m(\u001b[0m\u001b[0mself\u001b[0m\u001b[1;33m,\u001b[0m \u001b[0mengine\u001b[0m\u001b[1;33m=\u001b[0m\u001b[1;34m\"c\"\u001b[0m\u001b[1;33m)\u001b[0m\u001b[1;33m:\u001b[0m\u001b[1;33m\u001b[0m\u001b[1;33m\u001b[0m\u001b[0m\n\u001b[0;32m   1177\u001b[0m         \u001b[1;32mif\u001b[0m \u001b[0mengine\u001b[0m \u001b[1;33m==\u001b[0m \u001b[1;34m\"c\"\u001b[0m\u001b[1;33m:\u001b[0m\u001b[1;33m\u001b[0m\u001b[1;33m\u001b[0m\u001b[0m\n\u001b[1;32m-> 1178\u001b[1;33m             \u001b[0mself\u001b[0m\u001b[1;33m.\u001b[0m\u001b[0m_engine\u001b[0m \u001b[1;33m=\u001b[0m \u001b[0mCParserWrapper\u001b[0m\u001b[1;33m(\u001b[0m\u001b[0mself\u001b[0m\u001b[1;33m.\u001b[0m\u001b[0mf\u001b[0m\u001b[1;33m,\u001b[0m \u001b[1;33m**\u001b[0m\u001b[0mself\u001b[0m\u001b[1;33m.\u001b[0m\u001b[0moptions\u001b[0m\u001b[1;33m)\u001b[0m\u001b[1;33m\u001b[0m\u001b[1;33m\u001b[0m\u001b[0m\n\u001b[0m\u001b[0;32m   1179\u001b[0m         \u001b[1;32melse\u001b[0m\u001b[1;33m:\u001b[0m\u001b[1;33m\u001b[0m\u001b[1;33m\u001b[0m\u001b[0m\n\u001b[0;32m   1180\u001b[0m             \u001b[1;32mif\u001b[0m \u001b[0mengine\u001b[0m \u001b[1;33m==\u001b[0m \u001b[1;34m\"python\"\u001b[0m\u001b[1;33m:\u001b[0m\u001b[1;33m\u001b[0m\u001b[1;33m\u001b[0m\u001b[0m\n",
      "\u001b[1;32mC:\\Anaconda\\lib\\site-packages\\pandas\\io\\parsers.py\u001b[0m in \u001b[0;36m__init__\u001b[1;34m(self, src, **kwds)\u001b[0m\n\u001b[0;32m   2006\u001b[0m         \u001b[0mkwds\u001b[0m\u001b[1;33m[\u001b[0m\u001b[1;34m\"usecols\"\u001b[0m\u001b[1;33m]\u001b[0m \u001b[1;33m=\u001b[0m \u001b[0mself\u001b[0m\u001b[1;33m.\u001b[0m\u001b[0musecols\u001b[0m\u001b[1;33m\u001b[0m\u001b[1;33m\u001b[0m\u001b[0m\n\u001b[0;32m   2007\u001b[0m \u001b[1;33m\u001b[0m\u001b[0m\n\u001b[1;32m-> 2008\u001b[1;33m         \u001b[0mself\u001b[0m\u001b[1;33m.\u001b[0m\u001b[0m_reader\u001b[0m \u001b[1;33m=\u001b[0m \u001b[0mparsers\u001b[0m\u001b[1;33m.\u001b[0m\u001b[0mTextReader\u001b[0m\u001b[1;33m(\u001b[0m\u001b[0msrc\u001b[0m\u001b[1;33m,\u001b[0m \u001b[1;33m**\u001b[0m\u001b[0mkwds\u001b[0m\u001b[1;33m)\u001b[0m\u001b[1;33m\u001b[0m\u001b[1;33m\u001b[0m\u001b[0m\n\u001b[0m\u001b[0;32m   2009\u001b[0m         \u001b[0mself\u001b[0m\u001b[1;33m.\u001b[0m\u001b[0munnamed_cols\u001b[0m \u001b[1;33m=\u001b[0m \u001b[0mself\u001b[0m\u001b[1;33m.\u001b[0m\u001b[0m_reader\u001b[0m\u001b[1;33m.\u001b[0m\u001b[0munnamed_cols\u001b[0m\u001b[1;33m\u001b[0m\u001b[1;33m\u001b[0m\u001b[0m\n\u001b[0;32m   2010\u001b[0m \u001b[1;33m\u001b[0m\u001b[0m\n",
      "\u001b[1;32mpandas\\_libs\\parsers.pyx\u001b[0m in \u001b[0;36mpandas._libs.parsers.TextReader.__cinit__\u001b[1;34m()\u001b[0m\n",
      "\u001b[1;32mpandas\\_libs\\parsers.pyx\u001b[0m in \u001b[0;36mpandas._libs.parsers.TextReader._setup_parser_source\u001b[1;34m()\u001b[0m\n",
      "\u001b[1;31mFileNotFoundError\u001b[0m: [Errno 2] No such file or directory: 'newhousing.csv'"
     ]
    }
   ],
   "source": [
    "df=pd.read_csv('newhousing.csv')"
   ]
  },
  {
   "cell_type": "code",
   "execution_count": null,
   "metadata": {},
   "outputs": [],
   "source": [
    "df"
   ]
  },
  {
   "cell_type": "code",
   "execution_count": 21,
   "metadata": {},
   "outputs": [],
   "source": [
    "use_cols = df.loc[:, df.columns != 'SalePrice'].columns.tolist()"
   ]
  },
  {
   "cell_type": "code",
   "execution_count": 22,
   "metadata": {},
   "outputs": [],
   "source": [
    "X = df[use_cols]\n",
    "y = df['SalePrice']"
   ]
  },
  {
   "cell_type": "code",
   "execution_count": 23,
   "metadata": {},
   "outputs": [],
   "source": [
    "from sklearn.model_selection import train_test_split"
   ]
  },
  {
   "cell_type": "code",
   "execution_count": 24,
   "metadata": {},
   "outputs": [],
   "source": [
    "X_train,X_test,y_train,y_test = train_test_split(X, y, test_size=0.3,random_state=42)"
   ]
  },
  {
   "cell_type": "code",
   "execution_count": 35,
   "metadata": {},
   "outputs": [
    {
     "name": "stdout",
     "output_type": "stream",
     "text": [
      "R^2 for train set: 0.879091\n",
      "--------------------------------------------------\n",
      "R^2 for test  set: 0.886212\n",
      "--------------------------------------------------\n",
      "RSS is equal to 893946514887.739\n"
     ]
    },
    {
     "data": {
      "image/png": "[encoded data removed]",
      "text/plain": [
       "<Figure size 432x288 with 1 Axes>"
      ]
     },
     "metadata": {
      "needs_background": "light"
     },
     "output_type": "display_data"
    }
   ],
   "source": [
    "from sklearn.linear_model import LinearRegression\n",
    "ols = LinearRegression()\n",
    "ols.fit(X_train,y_train)\n",
    "residuals = y - ols.predict(X)\n",
    "print(\"R^2 for train set: %f\" %ols.score(X_train, y_train))\n",
    "\n",
    "print('-'*50)\n",
    "print(\"R^2 for test  set: %f\" %ols.score(X_test, y_test))\n",
    "print('-'*50)\n",
    "\n",
    "residuals = y - ols.predict(X)\n",
    "print('RSS is equal to %.3f' %np.sum((residuals))**2)\n",
    "\n",
    "\n",
    "_=plt.hist(residuals, bins=30)"
   ]
  },
  {
   "cell_type": "code",
   "execution_count": 36,
   "metadata": {
    "scrolled": false
   },
   "outputs": [
    {
     "name": "stdout",
     "output_type": "stream",
     "text": [
      "                            OLS Regression Results                            \n",
      "==============================================================================\n",
      "Dep. Variable:              SalePrice   R-squared:                       0.911\n",
      "Model:                            OLS   Adj. R-squared:                  0.910\n",
      "Method:                 Least Squares   F-statistic:                     565.5\n",
      "Date:                Mon, 23 Nov 2020   Prob (F-statistic):               0.00\n",
      "Time:                        23:35:48   Log-Likelihood:                 1911.3\n",
      "No. Observations:                2580   AIC:                            -3729.\n",
      "Df Residuals:                    2533   BIC:                            -3453.\n",
      "Df Model:                          46                                         \n",
      "Covariance Type:            nonrobust                                         \n",
      "==================================================================================\n",
      "                     coef    std err          t      P>|t|      [0.025      0.975]\n",
      "----------------------------------------------------------------------------------\n",
      "const              5.2874      0.408     12.947      0.000       4.487       6.088\n",
      "GrLivArea          0.0002   1.11e-05     22.306      0.000       0.000       0.000\n",
      "LotFrontage        0.0003   7.46e-05      3.584      0.000       0.000       0.000\n",
      "LotArea         2.243e-06   3.41e-07      6.575      0.000    1.57e-06    2.91e-06\n",
      "OverallQual        0.0630      0.003     19.689      0.000       0.057       0.069\n",
      "OverallCond        0.0446      0.003     16.091      0.000       0.039       0.050\n",
      "YearBuilt          0.0016      0.000      9.228      0.000       0.001       0.002\n",
      "YearRemodAdd       0.0007      0.000      3.675      0.000       0.000       0.001\n",
      "MasVnrArea      4.785e-06   1.55e-05      0.308      0.758   -2.57e-05    3.53e-05\n",
      "BsmtFinSF1      7.604e-05   5.76e-06     13.198      0.000    6.47e-05    8.73e-05\n",
      "BsmtFinSF2      3.906e-05   1.04e-05      3.774      0.000    1.88e-05    5.94e-05\n",
      "BsmtUnfSF      -7.273e-06   5.65e-06     -1.287      0.198   -1.84e-05    3.81e-06\n",
      "TotalBsmtSF        0.0001    6.5e-06     16.599      0.000    9.51e-05       0.000\n",
      "LowQualFinSF      -0.0001   5.38e-05     -2.199      0.028      -0.000   -1.28e-05\n",
      "BedroomAbvGr      -0.0176      0.004     -3.983      0.000      -0.026      -0.009\n",
      "KitchenAbvGr      -0.0592      0.014     -4.227      0.000      -0.087      -0.032\n",
      "TotRmsAbvGrd       0.0115      0.003      3.611      0.000       0.005       0.018\n",
      "Fireplaces         0.0188      0.008      2.476      0.013       0.004       0.034\n",
      "GarageCars         0.0234      0.008      3.072      0.002       0.008       0.038\n",
      "GarageArea      7.497e-05    2.6e-05      2.884      0.004     2.4e-05       0.000\n",
      "WoodDeckSF       3.41e-05   1.99e-05      1.712      0.087   -4.96e-06    7.32e-05\n",
      "OpenPorchSF    -1.917e-05    3.8e-05     -0.504      0.614   -9.37e-05    5.54e-05\n",
      "EnclosedPorch      0.0002   3.96e-05      4.319      0.000    9.34e-05       0.000\n",
      "3SsnPorch          0.0001   9.16e-05      1.231      0.218   -6.68e-05       0.000\n",
      "ScreenPorch        0.0002   4.26e-05      4.589      0.000       0.000       0.000\n",
      "PoolArea        -1.45e-05    7.8e-05     -0.186      0.853      -0.000       0.000\n",
      "Baths              0.0101      0.005      2.014      0.044       0.000       0.020\n",
      "MSZoning_E         0.0432      0.003     13.229      0.000       0.037       0.050\n",
      "LotShape_E         0.0122      0.004      3.021      0.003       0.004       0.020\n",
      "LandContour_E      0.0247      0.006      4.463      0.000       0.014       0.036\n",
      "LandSlope_E        0.0145      0.011      1.344      0.179      -0.007       0.036\n",
      "RoofStyle_E        0.0016      0.002      0.761      0.447      -0.003       0.006\n",
      "ExterQual_E        0.0135      0.007      1.915      0.056      -0.000       0.027\n",
      "ExterCond_E        0.0139      0.005      3.018      0.003       0.005       0.023\n",
      "BsmtQual_E         0.0133      0.005      2.585      0.010       0.003       0.023\n",
      "BsmtCond_E        -0.0018      0.005     -0.372      0.710      -0.011       0.008\n",
      "HeatingQC_E        0.0189      0.003      6.200      0.000       0.013       0.025\n",
      "CentralAir_E       0.0438      0.012      3.648      0.000       0.020       0.067\n",
      "Electrical_E      -0.0038      0.004     -0.913      0.362      -0.012       0.004\n",
      "KitchenQual_E      0.0239      0.006      4.251      0.000       0.013       0.035\n",
      "Functional_E       0.0157      0.003      4.812      0.000       0.009       0.022\n",
      "FireplaceQu_E      0.0064      0.003      2.314      0.021       0.001       0.012\n",
      "GarageType_E       0.0001      0.002      0.052      0.958      -0.004       0.005\n",
      "GarageFinish_E     0.0057      0.004      1.444      0.149      -0.002       0.014\n",
      "GarageQual_E      -0.0053      0.008     -0.662      0.508      -0.021       0.010\n",
      "GarageCond_E       0.0095      0.006      1.644      0.100      -0.002       0.021\n",
      "PavedDrive_E       0.0151      0.006      2.734      0.006       0.004       0.026\n",
      "Fence_E            0.0020      0.003      0.719      0.472      -0.004       0.008\n",
      "==============================================================================\n",
      "Omnibus:                     1820.673   Durbin-Watson:                   1.987\n",
      "Prob(Omnibus):                  0.000   Jarque-Bera (JB):           132084.109\n",
      "Skew:                          -2.639   Prob(JB):                         0.00\n",
      "Kurtosis:                      37.653   Cond. No.                     1.24e+16\n",
      "==============================================================================\n",
      "\n",
      "Notes:\n",
      "[1] Standard Errors assume that the covariance matrix of the errors is correctly specified.\n",
      "[2] The smallest eigenvalue is 2.94e-21. This might indicate that there are\n",
      "strong multicollinearity problems or that the design matrix is singular.\n"
     ]
    }
   ],
   "source": [
    "import statsmodels.api as sm\n",
    "x = sm.add_constant(X)\n",
    "# Notice that the dependent variable (y) comes before the independent variables (x)\n",
    "# Use df.columns.values to get all the column names\n",
    "model = sm.OLS(np.log(y), x)\n",
    "results = model.fit()\n",
    "print(results.summary()) # How to print out the summary report"
   ]
  },
  {
   "cell_type": "code",
   "execution_count": 45,
   "metadata": {},
   "outputs": [
    {
     "name": "stdout",
     "output_type": "stream",
     "text": [
      "The insignificant coefficients\n"
     ]
    },
    {
     "data": {
      "text/plain": [
       "MasVnrArea        0.758295\n",
       "BsmtUnfSF         0.198275\n",
       "WoodDeckSF        0.087046\n",
       "OpenPorchSF       0.614208\n",
       "3SsnPorch         0.218277\n",
       "PoolArea          0.852588\n",
       "LandSlope_E       0.179127\n",
       "RoofStyle_E       0.446647\n",
       "ExterQual_E       0.055588\n",
       "BsmtCond_E        0.710150\n",
       "Electrical_E      0.361572\n",
       "GarageType_E      0.958190\n",
       "GarageFinish_E    0.148892\n",
       "GarageQual_E      0.508312\n",
       "GarageCond_E      0.100206\n",
       "Fence_E           0.472107\n",
       "dtype: float64"
      ]
     },
     "execution_count": 45,
     "metadata": {},
     "output_type": "execute_result"
    }
   ],
   "source": [
    "print('The insignificant coefficients')\n",
    "pValues[pValues>=0.05]"
   ]
  },
  {
   "cell_type": "code",
   "execution_count": 44,
   "metadata": {},
   "outputs": [
    {
     "name": "stdout",
     "output_type": "stream",
     "text": [
      "The significant coefficients\n"
     ]
    },
    {
     "data": {
      "text/plain": [
       "const             3.576913e-37\n",
       "GrLivArea        8.804329e-101\n",
       "LotFrontage       3.443738e-04\n",
       "LotArea           5.888684e-11\n",
       "OverallQual       2.053720e-80\n",
       "OverallCond       1.520447e-55\n",
       "YearBuilt         5.635675e-20\n",
       "YearRemodAdd      2.427170e-04\n",
       "BsmtFinSF1        1.638333e-38\n",
       "BsmtFinSF2        1.641579e-04\n",
       "TotalBsmtSF       8.067038e-59\n",
       "LowQualFinSF      2.798911e-02\n",
       "BedroomAbvGr      6.995651e-05\n",
       "KitchenAbvGr      2.457479e-05\n",
       "TotRmsAbvGrd      3.105159e-04\n",
       "Fireplaces        1.335961e-02\n",
       "GarageCars        2.150111e-03\n",
       "GarageArea        3.958875e-03\n",
       "EnclosedPorch     1.629059e-05\n",
       "ScreenPorch       4.671604e-06\n",
       "Baths             4.408648e-02\n",
       "MSZoning_E        1.108589e-38\n",
       "LotShape_E        2.544777e-03\n",
       "LandContour_E     8.428842e-06\n",
       "ExterCond_E       2.572435e-03\n",
       "BsmtQual_E        9.807005e-03\n",
       "HeatingQC_E       6.579132e-10\n",
       "CentralAir_E      2.697915e-04\n",
       "KitchenQual_E     2.204577e-05\n",
       "Functional_E      1.580058e-06\n",
       "FireplaceQu_E     2.076541e-02\n",
       "PavedDrive_E      6.291033e-03\n",
       "dtype: float64"
      ]
     },
     "execution_count": 44,
     "metadata": {},
     "output_type": "execute_result"
    }
   ],
   "source": [
    "pValues = results.pvalues\n",
    "print('The significant coefficients')\n",
    "pValues[pValues<0.05]"
   ]
  },
  {
   "cell_type": "markdown",
   "metadata": {},
   "source": [
    "## Detecting Multicollinearity "
   ]
  },
  {
   "cell_type": "code",
   "execution_count": 26,
   "metadata": {},
   "outputs": [
    {
     "data": {
      "text/plain": [
       "Index(['GrLivArea', 'SalePrice', 'LotFrontage', 'LotArea', 'OverallQual',\n",
       "       'OverallCond', 'YearBuilt', 'YearRemodAdd', 'MasVnrArea', 'BsmtFinSF1',\n",
       "       'BsmtFinSF2', 'BsmtUnfSF', 'TotalBsmtSF', 'LowQualFinSF',\n",
       "       'BedroomAbvGr', 'KitchenAbvGr', 'TotRmsAbvGrd', 'Fireplaces',\n",
       "       'GarageCars', 'GarageArea', 'WoodDeckSF', 'OpenPorchSF',\n",
       "       'EnclosedPorch', '3SsnPorch', 'ScreenPorch', 'PoolArea', 'Baths',\n",
       "       'MSZoning_E', 'LotShape_E', 'LandContour_E', 'LandSlope_E',\n",
       "       'RoofStyle_E', 'ExterQual_E', 'ExterCond_E', 'BsmtQual_E', 'BsmtCond_E',\n",
       "       'HeatingQC_E', 'CentralAir_E', 'Electrical_E', 'KitchenQual_E',\n",
       "       'Functional_E', 'FireplaceQu_E', 'GarageType_E', 'GarageFinish_E',\n",
       "       'GarageQual_E', 'GarageCond_E', 'PavedDrive_E', 'Fence_E'],\n",
       "      dtype='object')"
      ]
     },
     "execution_count": 26,
     "metadata": {},
     "output_type": "execute_result"
    }
   ],
   "source": [
    "df.columns"
   ]
  },
  {
   "cell_type": "code",
   "execution_count": 27,
   "metadata": {},
   "outputs": [],
   "source": [
    "scores = {}\n",
    "ols2 = LinearRegression()\n",
    "from sklearn.metrics import r2_score\n",
    "for feature_name in use_cols:\n",
    "                df2     = df.copy()\n",
    "                feature = df2[feature_name].copy()\n",
    "                df2.drop(feature_name, axis=1, inplace=True)\n",
    "                ols2.fit(df2, feature)\n",
    "                scores[feature_name] = ols2.score(df2, feature)  "
   ]
  },
  {
   "cell_type": "code",
   "execution_count": 28,
   "metadata": {},
   "outputs": [
    {
     "data": {
      "image/png": "[encoded data removed]",
      "text/plain": [
       "<Figure size 432x288 with 1 Axes>"
      ]
     },
     "metadata": {
      "needs_background": "light"
     },
     "output_type": "display_data"
    }
   ],
   "source": [
    "features = sns.barplot(x='index', y='R2', data=pd.DataFrame(scores, index=['R2']).T.reset_index())\n",
    "plt.title('$R^2$ of a continuous feature against the other features')\n",
    "\n",
    "for item in features.get_xticklabels():\n",
    "    item.set_rotation(90)"
   ]
  },
  {
   "cell_type": "code",
   "execution_count": null,
   "metadata": {},
   "outputs": [],
   "source": []
  }
 ],
 "metadata": {
  "kernelspec": {
   "display_name": "Python 3",
   "language": "python",
   "name": "python3"
  },
  "language_info": {
   "codemirror_mode": {
    "name": "ipython",
    "version": 3
   },
   "file_extension": ".py",
   "mimetype": "text/x-python",
   "name": "python",
   "nbconvert_exporter": "python",
   "pygments_lexer": "ipython3",
   "version": "3.8.3"
  }
 },
 "nbformat": 4,
 "nbformat_minor": 4
}
