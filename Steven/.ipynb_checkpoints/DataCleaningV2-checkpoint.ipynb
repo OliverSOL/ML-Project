{
 "cells": [
  {
   "cell_type": "code",
   "execution_count": 2,
   "metadata": {},
   "outputs": [],
   "source": [
    "import numpy as np\n",
    "import pandas as pd\n",
    "import seaborn as sns\n",
    "import re\n",
    "%matplotlib inline \n",
    "import matplotlib.pyplot as plt"
   ]
  },
  {
   "cell_type": "code",
   "execution_count": 3,
   "metadata": {},
   "outputs": [
    {
     "name": "stderr",
     "output_type": "stream",
     "text": [
      "C:\\Anaconda\\lib\\site-packages\\IPython\\core\\interactiveshell.py:3145: DtypeWarning: Columns (36,40,81,87) have mixed types.Specify dtype option on import or set low_memory=False.\n",
      "  has_raised = await self.run_ast_nodes(code_ast.body, cell_name,\n"
     ]
    }
   ],
   "source": [
    "housing = pd.read_csv('Ames_HousePrice.csv', index_col=0)\n",
    "real_est = pd.read_csv('Ames Real Estate Data.csv')\n",
    "\n",
    "housingdf = housing.copy()"
   ]
  },
  {
   "cell_type": "markdown",
   "metadata": {},
   "source": [
    "## Seperating Quantative and Qualitative data\n",
    "\n",
    "strings are object datatype so we filter columns by this"
   ]
  },
  {
   "cell_type": "code",
   "execution_count": 4,
   "metadata": {},
   "outputs": [],
   "source": [
    "quant = [col for col in housingdf.columns if housingdf.dtypes[col] != 'object']\n",
    "qual = [col for col in housingdf.columns if housingdf.dtypes[col] == 'object']"
   ]
  },
  {
   "cell_type": "markdown",
   "metadata": {},
   "source": [
    "## Imputing Missing Data (_Quantitative_)\n",
    "\n",
    "fill missing data with 0s"
   ]
  },
  {
   "cell_type": "code",
   "execution_count": 5,
   "metadata": {},
   "outputs": [
    {
     "data": {
      "text/plain": [
       "LotFrontage     17.91\n",
       "GarageYrBlt      5.00\n",
       "MasVnrArea       0.54\n",
       "BsmtFullBath     0.08\n",
       "BsmtHalfBath     0.08\n",
       "BsmtFinSF1       0.04\n",
       "BsmtFinSF2       0.04\n",
       "BsmtUnfSF        0.04\n",
       "dtype: float64"
      ]
     },
     "execution_count": 5,
     "metadata": {},
     "output_type": "execute_result"
    }
   ],
   "source": [
    "housingdf[quant].isna().mean().nlargest(8).round(4) * 100"
   ]
  },
  {
   "cell_type": "code",
   "execution_count": 6,
   "metadata": {},
   "outputs": [],
   "source": [
    "housingdf[quant] = housingdf.loc[:, quant].fillna(value=0)"
   ]
  },
  {
   "cell_type": "code",
   "execution_count": 7,
   "metadata": {},
   "outputs": [
    {
     "data": {
      "text/plain": [
       "PID            0.0\n",
       "GrLivArea      0.0\n",
       "SalePrice      0.0\n",
       "MSSubClass     0.0\n",
       "LotFrontage    0.0\n",
       "LotArea        0.0\n",
       "OverallQual    0.0\n",
       "OverallCond    0.0\n",
       "dtype: float64"
      ]
     },
     "execution_count": 7,
     "metadata": {},
     "output_type": "execute_result"
    }
   ],
   "source": [
    "housingdf[quant].isna().mean().nlargest(8).round(4) * 100"
   ]
  },
  {
   "cell_type": "markdown",
   "metadata": {},
   "source": [
    "## Imputing Missing Data (_Qualitative_)\n",
    "\n",
    "dealing with missing data and dummifying"
   ]
  },
  {
   "cell_type": "code",
   "execution_count": 8,
   "metadata": {},
   "outputs": [
    {
     "data": {
      "text/plain": [
       "PoolQC          99.65\n",
       "MiscFeature     96.24\n",
       "Alley           93.49\n",
       "Fence           79.65\n",
       "FireplaceQu     48.10\n",
       "GarageFinish     5.00\n",
       "GarageQual       5.00\n",
       "GarageCond       5.00\n",
       "dtype: float64"
      ]
     },
     "execution_count": 8,
     "metadata": {},
     "output_type": "execute_result"
    }
   ],
   "source": [
    "housingdf[qual].isna().mean().nlargest(8).round(4) * 100"
   ]
  },
  {
   "cell_type": "markdown",
   "metadata": {},
   "source": [
    "dropping PoolQC, MiscFeature, Alley, Fence since missing lots of data"
   ]
  },
  {
   "cell_type": "code",
   "execution_count": 9,
   "metadata": {},
   "outputs": [],
   "source": [
    "housingdf.drop(['PoolQC','MiscFeature','Alley','Fence'],axis=1,inplace=True)"
   ]
  },
  {
   "cell_type": "markdown",
   "metadata": {},
   "source": [
    "removing removed features from qual list"
   ]
  },
  {
   "cell_type": "code",
   "execution_count": 10,
   "metadata": {},
   "outputs": [],
   "source": [
    "ew = ['PoolQC','MiscFeature','Alley','Fence']\n",
    "qual = [q for q in qual if q not in ew]"
   ]
  },
  {
   "cell_type": "code",
   "execution_count": 11,
   "metadata": {},
   "outputs": [
    {
     "data": {
      "text/plain": [
       "['MSZoning',\n",
       " 'Street',\n",
       " 'LotShape',\n",
       " 'LandContour',\n",
       " 'Utilities',\n",
       " 'LotConfig',\n",
       " 'LandSlope',\n",
       " 'Neighborhood',\n",
       " 'Condition1',\n",
       " 'Condition2',\n",
       " 'BldgType',\n",
       " 'HouseStyle',\n",
       " 'RoofStyle',\n",
       " 'RoofMatl',\n",
       " 'Exterior1st',\n",
       " 'Exterior2nd',\n",
       " 'MasVnrType',\n",
       " 'ExterQual',\n",
       " 'ExterCond',\n",
       " 'Foundation',\n",
       " 'BsmtQual',\n",
       " 'BsmtCond',\n",
       " 'BsmtExposure',\n",
       " 'BsmtFinType1',\n",
       " 'BsmtFinType2',\n",
       " 'Heating',\n",
       " 'HeatingQC',\n",
       " 'CentralAir',\n",
       " 'Electrical',\n",
       " 'KitchenQual',\n",
       " 'Functional',\n",
       " 'FireplaceQu',\n",
       " 'GarageType',\n",
       " 'GarageFinish',\n",
       " 'GarageQual',\n",
       " 'GarageCond',\n",
       " 'PavedDrive',\n",
       " 'SaleType',\n",
       " 'SaleCondition']"
      ]
     },
     "execution_count": 11,
     "metadata": {},
     "output_type": "execute_result"
    }
   ],
   "source": [
    "qual"
   ]
  },
  {
   "cell_type": "markdown",
   "metadata": {},
   "source": [
    "adding missing category for any nan values in qual columns"
   ]
  },
  {
   "cell_type": "code",
   "execution_count": 12,
   "metadata": {},
   "outputs": [],
   "source": [
    "for col in qual:\n",
    "    housingdf[col] = housingdf[col].astype('category')\n",
    "    if housingdf[col].isnull().any():\n",
    "        housingdf[col] = housingdf[col].cat.add_categories(['MISSING'])\n",
    "        housingdf[col] = housingdf[col].fillna('MISSING')"
   ]
  },
  {
   "cell_type": "code",
   "execution_count": 13,
   "metadata": {},
   "outputs": [
    {
     "data": {
      "text/plain": [
       "MSZoning        0.0\n",
       "Street          0.0\n",
       "LotShape        0.0\n",
       "LandContour     0.0\n",
       "Utilities       0.0\n",
       "LotConfig       0.0\n",
       "LandSlope       0.0\n",
       "Neighborhood    0.0\n",
       "Condition1      0.0\n",
       "Condition2      0.0\n",
       "dtype: float64"
      ]
     },
     "execution_count": 13,
     "metadata": {},
     "output_type": "execute_result"
    }
   ],
   "source": [
    "housingdf[qual].isna().mean().nlargest(10)"
   ]
  },
  {
   "cell_type": "code",
   "execution_count": 14,
   "metadata": {},
   "outputs": [],
   "source": [
    "h_quant = housingdf.loc[:, quant]"
   ]
  },
  {
   "cell_type": "code",
   "execution_count": 15,
   "metadata": {},
   "outputs": [
    {
     "data": {
      "text/html": [
       "<div>\n",
       "<style scoped>\n",
       "    .dataframe tbody tr th:only-of-type {\n",
       "        vertical-align: middle;\n",
       "    }\n",
       "\n",
       "    .dataframe tbody tr th {\n",
       "        vertical-align: top;\n",
       "    }\n",
       "\n",
       "    .dataframe thead th {\n",
       "        text-align: right;\n",
       "    }\n",
       "</style>\n",
       "<table border=\"1\" class=\"dataframe\">\n",
       "  <thead>\n",
       "    <tr style=\"text-align: right;\">\n",
       "      <th></th>\n",
       "      <th>PID</th>\n",
       "      <th>GrLivArea</th>\n",
       "      <th>SalePrice</th>\n",
       "      <th>MSSubClass</th>\n",
       "      <th>LotFrontage</th>\n",
       "      <th>LotArea</th>\n",
       "      <th>OverallQual</th>\n",
       "      <th>OverallCond</th>\n",
       "      <th>YearBuilt</th>\n",
       "      <th>YearRemodAdd</th>\n",
       "      <th>...</th>\n",
       "      <th>GarageArea</th>\n",
       "      <th>WoodDeckSF</th>\n",
       "      <th>OpenPorchSF</th>\n",
       "      <th>EnclosedPorch</th>\n",
       "      <th>3SsnPorch</th>\n",
       "      <th>ScreenPorch</th>\n",
       "      <th>PoolArea</th>\n",
       "      <th>MiscVal</th>\n",
       "      <th>MoSold</th>\n",
       "      <th>YrSold</th>\n",
       "    </tr>\n",
       "  </thead>\n",
       "  <tbody>\n",
       "    <tr>\n",
       "      <th>1</th>\n",
       "      <td>909176150</td>\n",
       "      <td>856</td>\n",
       "      <td>126000</td>\n",
       "      <td>30</td>\n",
       "      <td>0.0</td>\n",
       "      <td>7890</td>\n",
       "      <td>6</td>\n",
       "      <td>6</td>\n",
       "      <td>1939</td>\n",
       "      <td>1950</td>\n",
       "      <td>...</td>\n",
       "      <td>399.0</td>\n",
       "      <td>0</td>\n",
       "      <td>0</td>\n",
       "      <td>0</td>\n",
       "      <td>0</td>\n",
       "      <td>166</td>\n",
       "      <td>0</td>\n",
       "      <td>0</td>\n",
       "      <td>3</td>\n",
       "      <td>2010</td>\n",
       "    </tr>\n",
       "    <tr>\n",
       "      <th>2</th>\n",
       "      <td>905476230</td>\n",
       "      <td>1049</td>\n",
       "      <td>139500</td>\n",
       "      <td>120</td>\n",
       "      <td>42.0</td>\n",
       "      <td>4235</td>\n",
       "      <td>5</td>\n",
       "      <td>5</td>\n",
       "      <td>1984</td>\n",
       "      <td>1984</td>\n",
       "      <td>...</td>\n",
       "      <td>266.0</td>\n",
       "      <td>0</td>\n",
       "      <td>105</td>\n",
       "      <td>0</td>\n",
       "      <td>0</td>\n",
       "      <td>0</td>\n",
       "      <td>0</td>\n",
       "      <td>0</td>\n",
       "      <td>2</td>\n",
       "      <td>2009</td>\n",
       "    </tr>\n",
       "    <tr>\n",
       "      <th>3</th>\n",
       "      <td>911128020</td>\n",
       "      <td>1001</td>\n",
       "      <td>124900</td>\n",
       "      <td>30</td>\n",
       "      <td>60.0</td>\n",
       "      <td>6060</td>\n",
       "      <td>5</td>\n",
       "      <td>9</td>\n",
       "      <td>1930</td>\n",
       "      <td>2007</td>\n",
       "      <td>...</td>\n",
       "      <td>216.0</td>\n",
       "      <td>154</td>\n",
       "      <td>0</td>\n",
       "      <td>42</td>\n",
       "      <td>86</td>\n",
       "      <td>0</td>\n",
       "      <td>0</td>\n",
       "      <td>0</td>\n",
       "      <td>11</td>\n",
       "      <td>2007</td>\n",
       "    </tr>\n",
       "    <tr>\n",
       "      <th>4</th>\n",
       "      <td>535377150</td>\n",
       "      <td>1039</td>\n",
       "      <td>114000</td>\n",
       "      <td>70</td>\n",
       "      <td>80.0</td>\n",
       "      <td>8146</td>\n",
       "      <td>4</td>\n",
       "      <td>8</td>\n",
       "      <td>1900</td>\n",
       "      <td>2003</td>\n",
       "      <td>...</td>\n",
       "      <td>281.0</td>\n",
       "      <td>0</td>\n",
       "      <td>0</td>\n",
       "      <td>168</td>\n",
       "      <td>0</td>\n",
       "      <td>111</td>\n",
       "      <td>0</td>\n",
       "      <td>0</td>\n",
       "      <td>5</td>\n",
       "      <td>2009</td>\n",
       "    </tr>\n",
       "    <tr>\n",
       "      <th>5</th>\n",
       "      <td>534177230</td>\n",
       "      <td>1665</td>\n",
       "      <td>227000</td>\n",
       "      <td>60</td>\n",
       "      <td>70.0</td>\n",
       "      <td>8400</td>\n",
       "      <td>8</td>\n",
       "      <td>6</td>\n",
       "      <td>2001</td>\n",
       "      <td>2001</td>\n",
       "      <td>...</td>\n",
       "      <td>528.0</td>\n",
       "      <td>0</td>\n",
       "      <td>45</td>\n",
       "      <td>0</td>\n",
       "      <td>0</td>\n",
       "      <td>0</td>\n",
       "      <td>0</td>\n",
       "      <td>0</td>\n",
       "      <td>11</td>\n",
       "      <td>2009</td>\n",
       "    </tr>\n",
       "    <tr>\n",
       "      <th>...</th>\n",
       "      <td>...</td>\n",
       "      <td>...</td>\n",
       "      <td>...</td>\n",
       "      <td>...</td>\n",
       "      <td>...</td>\n",
       "      <td>...</td>\n",
       "      <td>...</td>\n",
       "      <td>...</td>\n",
       "      <td>...</td>\n",
       "      <td>...</td>\n",
       "      <td>...</td>\n",
       "      <td>...</td>\n",
       "      <td>...</td>\n",
       "      <td>...</td>\n",
       "      <td>...</td>\n",
       "      <td>...</td>\n",
       "      <td>...</td>\n",
       "      <td>...</td>\n",
       "      <td>...</td>\n",
       "      <td>...</td>\n",
       "      <td>...</td>\n",
       "    </tr>\n",
       "    <tr>\n",
       "      <th>759</th>\n",
       "      <td>903205040</td>\n",
       "      <td>952</td>\n",
       "      <td>121000</td>\n",
       "      <td>30</td>\n",
       "      <td>0.0</td>\n",
       "      <td>8854</td>\n",
       "      <td>6</td>\n",
       "      <td>6</td>\n",
       "      <td>1916</td>\n",
       "      <td>1950</td>\n",
       "      <td>...</td>\n",
       "      <td>192.0</td>\n",
       "      <td>0</td>\n",
       "      <td>98</td>\n",
       "      <td>0</td>\n",
       "      <td>0</td>\n",
       "      <td>40</td>\n",
       "      <td>0</td>\n",
       "      <td>0</td>\n",
       "      <td>5</td>\n",
       "      <td>2009</td>\n",
       "    </tr>\n",
       "    <tr>\n",
       "      <th>760</th>\n",
       "      <td>905402060</td>\n",
       "      <td>1733</td>\n",
       "      <td>139600</td>\n",
       "      <td>20</td>\n",
       "      <td>0.0</td>\n",
       "      <td>13680</td>\n",
       "      <td>3</td>\n",
       "      <td>5</td>\n",
       "      <td>1955</td>\n",
       "      <td>1955</td>\n",
       "      <td>...</td>\n",
       "      <td>452.0</td>\n",
       "      <td>0</td>\n",
       "      <td>0</td>\n",
       "      <td>0</td>\n",
       "      <td>0</td>\n",
       "      <td>0</td>\n",
       "      <td>0</td>\n",
       "      <td>0</td>\n",
       "      <td>6</td>\n",
       "      <td>2009</td>\n",
       "    </tr>\n",
       "    <tr>\n",
       "      <th>761</th>\n",
       "      <td>909275030</td>\n",
       "      <td>2002</td>\n",
       "      <td>145000</td>\n",
       "      <td>90</td>\n",
       "      <td>82.0</td>\n",
       "      <td>6270</td>\n",
       "      <td>5</td>\n",
       "      <td>6</td>\n",
       "      <td>1949</td>\n",
       "      <td>1950</td>\n",
       "      <td>...</td>\n",
       "      <td>871.0</td>\n",
       "      <td>0</td>\n",
       "      <td>0</td>\n",
       "      <td>0</td>\n",
       "      <td>0</td>\n",
       "      <td>0</td>\n",
       "      <td>0</td>\n",
       "      <td>0</td>\n",
       "      <td>8</td>\n",
       "      <td>2007</td>\n",
       "    </tr>\n",
       "    <tr>\n",
       "      <th>762</th>\n",
       "      <td>907192040</td>\n",
       "      <td>1842</td>\n",
       "      <td>217500</td>\n",
       "      <td>60</td>\n",
       "      <td>0.0</td>\n",
       "      <td>8826</td>\n",
       "      <td>7</td>\n",
       "      <td>5</td>\n",
       "      <td>2000</td>\n",
       "      <td>2000</td>\n",
       "      <td>...</td>\n",
       "      <td>486.0</td>\n",
       "      <td>193</td>\n",
       "      <td>96</td>\n",
       "      <td>0</td>\n",
       "      <td>0</td>\n",
       "      <td>0</td>\n",
       "      <td>0</td>\n",
       "      <td>0</td>\n",
       "      <td>7</td>\n",
       "      <td>2007</td>\n",
       "    </tr>\n",
       "    <tr>\n",
       "      <th>763</th>\n",
       "      <td>906223180</td>\n",
       "      <td>1911</td>\n",
       "      <td>215000</td>\n",
       "      <td>60</td>\n",
       "      <td>80.0</td>\n",
       "      <td>9554</td>\n",
       "      <td>8</td>\n",
       "      <td>5</td>\n",
       "      <td>1993</td>\n",
       "      <td>1994</td>\n",
       "      <td>...</td>\n",
       "      <td>471.0</td>\n",
       "      <td>182</td>\n",
       "      <td>81</td>\n",
       "      <td>0</td>\n",
       "      <td>0</td>\n",
       "      <td>0</td>\n",
       "      <td>0</td>\n",
       "      <td>0</td>\n",
       "      <td>9</td>\n",
       "      <td>2006</td>\n",
       "    </tr>\n",
       "  </tbody>\n",
       "</table>\n",
       "<p>2580 rows × 38 columns</p>\n",
       "</div>"
      ],
      "text/plain": [
       "           PID  GrLivArea  SalePrice  MSSubClass  LotFrontage  LotArea  \\\n",
       "1    909176150        856     126000          30          0.0     7890   \n",
       "2    905476230       1049     139500         120         42.0     4235   \n",
       "3    911128020       1001     124900          30         60.0     6060   \n",
       "4    535377150       1039     114000          70         80.0     8146   \n",
       "5    534177230       1665     227000          60         70.0     8400   \n",
       "..         ...        ...        ...         ...          ...      ...   \n",
       "759  903205040        952     121000          30          0.0     8854   \n",
       "760  905402060       1733     139600          20          0.0    13680   \n",
       "761  909275030       2002     145000          90         82.0     6270   \n",
       "762  907192040       1842     217500          60          0.0     8826   \n",
       "763  906223180       1911     215000          60         80.0     9554   \n",
       "\n",
       "     OverallQual  OverallCond  YearBuilt  YearRemodAdd  ...  GarageArea  \\\n",
       "1              6            6       1939          1950  ...       399.0   \n",
       "2              5            5       1984          1984  ...       266.0   \n",
       "3              5            9       1930          2007  ...       216.0   \n",
       "4              4            8       1900          2003  ...       281.0   \n",
       "5              8            6       2001          2001  ...       528.0   \n",
       "..           ...          ...        ...           ...  ...         ...   \n",
       "759            6            6       1916          1950  ...       192.0   \n",
       "760            3            5       1955          1955  ...       452.0   \n",
       "761            5            6       1949          1950  ...       871.0   \n",
       "762            7            5       2000          2000  ...       486.0   \n",
       "763            8            5       1993          1994  ...       471.0   \n",
       "\n",
       "     WoodDeckSF  OpenPorchSF  EnclosedPorch  3SsnPorch  ScreenPorch  PoolArea  \\\n",
       "1             0            0              0          0          166         0   \n",
       "2             0          105              0          0            0         0   \n",
       "3           154            0             42         86            0         0   \n",
       "4             0            0            168          0          111         0   \n",
       "5             0           45              0          0            0         0   \n",
       "..          ...          ...            ...        ...          ...       ...   \n",
       "759           0           98              0          0           40         0   \n",
       "760           0            0              0          0            0         0   \n",
       "761           0            0              0          0            0         0   \n",
       "762         193           96              0          0            0         0   \n",
       "763         182           81              0          0            0         0   \n",
       "\n",
       "     MiscVal  MoSold  YrSold  \n",
       "1          0       3    2010  \n",
       "2          0       2    2009  \n",
       "3          0      11    2007  \n",
       "4          0       5    2009  \n",
       "5          0      11    2009  \n",
       "..       ...     ...     ...  \n",
       "759        0       5    2009  \n",
       "760        0       6    2009  \n",
       "761        0       8    2007  \n",
       "762        0       7    2007  \n",
       "763        0       9    2006  \n",
       "\n",
       "[2580 rows x 38 columns]"
      ]
     },
     "execution_count": 15,
     "metadata": {},
     "output_type": "execute_result"
    }
   ],
   "source": [
    "h_quant"
   ]
  },
  {
   "cell_type": "markdown",
   "metadata": {},
   "source": [
    "### Dummifying Nominal Features"
   ]
  },
  {
   "cell_type": "code",
   "execution_count": 16,
   "metadata": {},
   "outputs": [],
   "source": [
    "nominals = ['MSZoning','Street','LandContour','Utilities','LotConfig','Neighborhood',\n",
    "           'Condition1','Condition2','BldgType','HouseStyle','RoofStyle','RoofMatl','Exterior1st',\n",
    "           'Exterior2nd','MasVnrType','Foundation','Heating','CentralAir','Electrical',\n",
    "           'Functional','GarageType', 'PavedDrive', 'SaleType','SaleCondition','LotShape','LandSlope']"
   ]
  },
  {
   "cell_type": "code",
   "execution_count": 17,
   "metadata": {},
   "outputs": [],
   "source": [
    "nominaldf = housingdf.loc[:, nominals]"
   ]
  },
  {
   "cell_type": "code",
   "execution_count": 18,
   "metadata": {},
   "outputs": [],
   "source": [
    "#qualdf = housingdf.loc[:, qual]\n",
    "#print(pd.get_dummies(, prefix=['column1', 'column2']))"
   ]
  },
  {
   "cell_type": "code",
   "execution_count": 19,
   "metadata": {},
   "outputs": [],
   "source": [
    "ndummydf = pd.get_dummies(nominaldf, drop_first=True)"
   ]
  },
  {
   "cell_type": "markdown",
   "metadata": {},
   "source": [
    "### Ordinal Encoder for Ordinal Features"
   ]
  },
  {
   "cell_type": "code",
   "execution_count": 20,
   "metadata": {},
   "outputs": [],
   "source": [
    "toyhouse = housingdf.copy()"
   ]
  },
  {
   "cell_type": "code",
   "execution_count": 21,
   "metadata": {},
   "outputs": [],
   "source": [
    "qc = ['ExterQual','ExterCond','BsmtQual','BsmtCond','HeatingQC', 'KitchenQual','FireplaceQu','GarageQual',\n",
    "           'GarageCond']\n",
    "rc = ['BsmtFinType1','BsmtFinType2'] \n",
    "ordinals = qc+rc+['GarageFinish','BsmtExposure']"
   ]
  },
  {
   "cell_type": "code",
   "execution_count": 22,
   "metadata": {},
   "outputs": [],
   "source": [
    "ord_df = toyhouse.loc[:,ordinals]"
   ]
  },
  {
   "cell_type": "code",
   "execution_count": 23,
   "metadata": {},
   "outputs": [],
   "source": [
    "quality = {'MISSING':0,'Po':1,'Fa':2,'TA':3,'Gd':4,'Ex':5}\n",
    "rating = {'MISSING':0,'Unf':1,'LwQ':2,'Rec':3,'BLQ':4,'ALQ':5,'GLQ':6}\n",
    "finish = {'MISSING':0,'Unf':1,'RFn':2,'Fin':3}\n",
    "exposure = {'MISSING':0,'No':1,'Mn':2,'Av':3,'Gd':4}"
   ]
  },
  {
   "cell_type": "code",
   "execution_count": 24,
   "metadata": {
    "scrolled": false
   },
   "outputs": [],
   "source": [
    "for c in qc:\n",
    "    ord_df[c] = ord_df[c].map(quality)"
   ]
  },
  {
   "cell_type": "code",
   "execution_count": 25,
   "metadata": {},
   "outputs": [],
   "source": [
    "for c in rc:\n",
    "    ord_df[c] = ord_df[c].map(rating)"
   ]
  },
  {
   "cell_type": "code",
   "execution_count": 26,
   "metadata": {},
   "outputs": [],
   "source": [
    "ord_df['BsmtExposure'] = ord_df['BsmtExposure'].map(exposure)"
   ]
  },
  {
   "cell_type": "code",
   "execution_count": 27,
   "metadata": {},
   "outputs": [],
   "source": [
    "ord_df['GarageFinish'] = ord_df['GarageFinish'].map(finish)"
   ]
  },
  {
   "cell_type": "code",
   "execution_count": 28,
   "metadata": {},
   "outputs": [
    {
     "data": {
      "text/html": [
       "<div>\n",
       "<style scoped>\n",
       "    .dataframe tbody tr th:only-of-type {\n",
       "        vertical-align: middle;\n",
       "    }\n",
       "\n",
       "    .dataframe tbody tr th {\n",
       "        vertical-align: top;\n",
       "    }\n",
       "\n",
       "    .dataframe thead th {\n",
       "        text-align: right;\n",
       "    }\n",
       "</style>\n",
       "<table border=\"1\" class=\"dataframe\">\n",
       "  <thead>\n",
       "    <tr style=\"text-align: right;\">\n",
       "      <th></th>\n",
       "      <th>ExterQual</th>\n",
       "      <th>ExterCond</th>\n",
       "      <th>BsmtQual</th>\n",
       "      <th>BsmtCond</th>\n",
       "      <th>HeatingQC</th>\n",
       "      <th>KitchenQual</th>\n",
       "      <th>FireplaceQu</th>\n",
       "      <th>GarageQual</th>\n",
       "      <th>GarageCond</th>\n",
       "      <th>BsmtFinType1</th>\n",
       "      <th>BsmtFinType2</th>\n",
       "      <th>GarageFinish</th>\n",
       "      <th>BsmtExposure</th>\n",
       "    </tr>\n",
       "  </thead>\n",
       "  <tbody>\n",
       "    <tr>\n",
       "      <th>1</th>\n",
       "      <td>3</td>\n",
       "      <td>3</td>\n",
       "      <td>3</td>\n",
       "      <td>3</td>\n",
       "      <td>3</td>\n",
       "      <td>3</td>\n",
       "      <td>4</td>\n",
       "      <td>3</td>\n",
       "      <td>3</td>\n",
       "      <td>3</td>\n",
       "      <td>1</td>\n",
       "      <td>1</td>\n",
       "      <td>1</td>\n",
       "    </tr>\n",
       "    <tr>\n",
       "      <th>2</th>\n",
       "      <td>4</td>\n",
       "      <td>3</td>\n",
       "      <td>4</td>\n",
       "      <td>3</td>\n",
       "      <td>3</td>\n",
       "      <td>4</td>\n",
       "      <td>0</td>\n",
       "      <td>3</td>\n",
       "      <td>3</td>\n",
       "      <td>6</td>\n",
       "      <td>5</td>\n",
       "      <td>3</td>\n",
       "      <td>2</td>\n",
       "    </tr>\n",
       "    <tr>\n",
       "      <th>3</th>\n",
       "      <td>4</td>\n",
       "      <td>3</td>\n",
       "      <td>3</td>\n",
       "      <td>3</td>\n",
       "      <td>5</td>\n",
       "      <td>4</td>\n",
       "      <td>0</td>\n",
       "      <td>3</td>\n",
       "      <td>1</td>\n",
       "      <td>5</td>\n",
       "      <td>1</td>\n",
       "      <td>1</td>\n",
       "      <td>1</td>\n",
       "    </tr>\n",
       "    <tr>\n",
       "      <th>4</th>\n",
       "      <td>4</td>\n",
       "      <td>4</td>\n",
       "      <td>2</td>\n",
       "      <td>3</td>\n",
       "      <td>4</td>\n",
       "      <td>3</td>\n",
       "      <td>0</td>\n",
       "      <td>3</td>\n",
       "      <td>3</td>\n",
       "      <td>1</td>\n",
       "      <td>1</td>\n",
       "      <td>1</td>\n",
       "      <td>1</td>\n",
       "    </tr>\n",
       "    <tr>\n",
       "      <th>5</th>\n",
       "      <td>4</td>\n",
       "      <td>3</td>\n",
       "      <td>4</td>\n",
       "      <td>3</td>\n",
       "      <td>5</td>\n",
       "      <td>4</td>\n",
       "      <td>0</td>\n",
       "      <td>3</td>\n",
       "      <td>3</td>\n",
       "      <td>6</td>\n",
       "      <td>1</td>\n",
       "      <td>3</td>\n",
       "      <td>1</td>\n",
       "    </tr>\n",
       "    <tr>\n",
       "      <th>...</th>\n",
       "      <td>...</td>\n",
       "      <td>...</td>\n",
       "      <td>...</td>\n",
       "      <td>...</td>\n",
       "      <td>...</td>\n",
       "      <td>...</td>\n",
       "      <td>...</td>\n",
       "      <td>...</td>\n",
       "      <td>...</td>\n",
       "      <td>...</td>\n",
       "      <td>...</td>\n",
       "      <td>...</td>\n",
       "      <td>...</td>\n",
       "    </tr>\n",
       "    <tr>\n",
       "      <th>759</th>\n",
       "      <td>3</td>\n",
       "      <td>3</td>\n",
       "      <td>3</td>\n",
       "      <td>3</td>\n",
       "      <td>2</td>\n",
       "      <td>2</td>\n",
       "      <td>4</td>\n",
       "      <td>2</td>\n",
       "      <td>1</td>\n",
       "      <td>1</td>\n",
       "      <td>1</td>\n",
       "      <td>1</td>\n",
       "      <td>1</td>\n",
       "    </tr>\n",
       "    <tr>\n",
       "      <th>760</th>\n",
       "      <td>3</td>\n",
       "      <td>3</td>\n",
       "      <td>0</td>\n",
       "      <td>0</td>\n",
       "      <td>5</td>\n",
       "      <td>3</td>\n",
       "      <td>4</td>\n",
       "      <td>3</td>\n",
       "      <td>3</td>\n",
       "      <td>0</td>\n",
       "      <td>0</td>\n",
       "      <td>1</td>\n",
       "      <td>0</td>\n",
       "    </tr>\n",
       "    <tr>\n",
       "      <th>761</th>\n",
       "      <td>3</td>\n",
       "      <td>3</td>\n",
       "      <td>3</td>\n",
       "      <td>3</td>\n",
       "      <td>3</td>\n",
       "      <td>3</td>\n",
       "      <td>0</td>\n",
       "      <td>3</td>\n",
       "      <td>3</td>\n",
       "      <td>4</td>\n",
       "      <td>1</td>\n",
       "      <td>1</td>\n",
       "      <td>1</td>\n",
       "    </tr>\n",
       "    <tr>\n",
       "      <th>762</th>\n",
       "      <td>4</td>\n",
       "      <td>3</td>\n",
       "      <td>4</td>\n",
       "      <td>3</td>\n",
       "      <td>5</td>\n",
       "      <td>4</td>\n",
       "      <td>3</td>\n",
       "      <td>3</td>\n",
       "      <td>3</td>\n",
       "      <td>6</td>\n",
       "      <td>1</td>\n",
       "      <td>3</td>\n",
       "      <td>1</td>\n",
       "    </tr>\n",
       "    <tr>\n",
       "      <th>763</th>\n",
       "      <td>4</td>\n",
       "      <td>3</td>\n",
       "      <td>4</td>\n",
       "      <td>3</td>\n",
       "      <td>5</td>\n",
       "      <td>4</td>\n",
       "      <td>3</td>\n",
       "      <td>3</td>\n",
       "      <td>3</td>\n",
       "      <td>6</td>\n",
       "      <td>1</td>\n",
       "      <td>2</td>\n",
       "      <td>1</td>\n",
       "    </tr>\n",
       "  </tbody>\n",
       "</table>\n",
       "<p>2580 rows × 13 columns</p>\n",
       "</div>"
      ],
      "text/plain": [
       "    ExterQual ExterCond BsmtQual BsmtCond HeatingQC KitchenQual FireplaceQu  \\\n",
       "1           3         3        3        3         3           3           4   \n",
       "2           4         3        4        3         3           4           0   \n",
       "3           4         3        3        3         5           4           0   \n",
       "4           4         4        2        3         4           3           0   \n",
       "5           4         3        4        3         5           4           0   \n",
       "..        ...       ...      ...      ...       ...         ...         ...   \n",
       "759         3         3        3        3         2           2           4   \n",
       "760         3         3        0        0         5           3           4   \n",
       "761         3         3        3        3         3           3           0   \n",
       "762         4         3        4        3         5           4           3   \n",
       "763         4         3        4        3         5           4           3   \n",
       "\n",
       "    GarageQual GarageCond BsmtFinType1 BsmtFinType2 GarageFinish BsmtExposure  \n",
       "1            3          3            3            1            1            1  \n",
       "2            3          3            6            5            3            2  \n",
       "3            3          1            5            1            1            1  \n",
       "4            3          3            1            1            1            1  \n",
       "5            3          3            6            1            3            1  \n",
       "..         ...        ...          ...          ...          ...          ...  \n",
       "759          2          1            1            1            1            1  \n",
       "760          3          3            0            0            1            0  \n",
       "761          3          3            4            1            1            1  \n",
       "762          3          3            6            1            3            1  \n",
       "763          3          3            6            1            2            1  \n",
       "\n",
       "[2580 rows x 13 columns]"
      ]
     },
     "execution_count": 28,
     "metadata": {},
     "output_type": "execute_result"
    }
   ],
   "source": [
    "ord_df"
   ]
  },
  {
   "cell_type": "code",
   "execution_count": 29,
   "metadata": {},
   "outputs": [
    {
     "data": {
      "text/html": [
       "<div>\n",
       "<style scoped>\n",
       "    .dataframe tbody tr th:only-of-type {\n",
       "        vertical-align: middle;\n",
       "    }\n",
       "\n",
       "    .dataframe tbody tr th {\n",
       "        vertical-align: top;\n",
       "    }\n",
       "\n",
       "    .dataframe thead th {\n",
       "        text-align: right;\n",
       "    }\n",
       "</style>\n",
       "<table border=\"1\" class=\"dataframe\">\n",
       "  <thead>\n",
       "    <tr style=\"text-align: right;\">\n",
       "      <th></th>\n",
       "      <th>ExterQual</th>\n",
       "      <th>ExterCond</th>\n",
       "      <th>BsmtQual</th>\n",
       "      <th>BsmtCond</th>\n",
       "      <th>HeatingQC</th>\n",
       "      <th>KitchenQual</th>\n",
       "      <th>FireplaceQu</th>\n",
       "      <th>GarageQual</th>\n",
       "      <th>GarageCond</th>\n",
       "      <th>BsmtFinType1</th>\n",
       "      <th>BsmtFinType2</th>\n",
       "      <th>GarageFinish</th>\n",
       "      <th>BsmtExposure</th>\n",
       "    </tr>\n",
       "  </thead>\n",
       "  <tbody>\n",
       "    <tr>\n",
       "      <th>1</th>\n",
       "      <td>TA</td>\n",
       "      <td>TA</td>\n",
       "      <td>TA</td>\n",
       "      <td>TA</td>\n",
       "      <td>TA</td>\n",
       "      <td>TA</td>\n",
       "      <td>Gd</td>\n",
       "      <td>TA</td>\n",
       "      <td>TA</td>\n",
       "      <td>Rec</td>\n",
       "      <td>Unf</td>\n",
       "      <td>Unf</td>\n",
       "      <td>No</td>\n",
       "    </tr>\n",
       "    <tr>\n",
       "      <th>2</th>\n",
       "      <td>Gd</td>\n",
       "      <td>TA</td>\n",
       "      <td>Gd</td>\n",
       "      <td>TA</td>\n",
       "      <td>TA</td>\n",
       "      <td>Gd</td>\n",
       "      <td>MISSING</td>\n",
       "      <td>TA</td>\n",
       "      <td>TA</td>\n",
       "      <td>GLQ</td>\n",
       "      <td>ALQ</td>\n",
       "      <td>Fin</td>\n",
       "      <td>Mn</td>\n",
       "    </tr>\n",
       "    <tr>\n",
       "      <th>3</th>\n",
       "      <td>Gd</td>\n",
       "      <td>TA</td>\n",
       "      <td>TA</td>\n",
       "      <td>TA</td>\n",
       "      <td>Ex</td>\n",
       "      <td>Gd</td>\n",
       "      <td>MISSING</td>\n",
       "      <td>TA</td>\n",
       "      <td>Po</td>\n",
       "      <td>ALQ</td>\n",
       "      <td>Unf</td>\n",
       "      <td>Unf</td>\n",
       "      <td>No</td>\n",
       "    </tr>\n",
       "    <tr>\n",
       "      <th>4</th>\n",
       "      <td>Gd</td>\n",
       "      <td>Gd</td>\n",
       "      <td>Fa</td>\n",
       "      <td>TA</td>\n",
       "      <td>Gd</td>\n",
       "      <td>TA</td>\n",
       "      <td>MISSING</td>\n",
       "      <td>TA</td>\n",
       "      <td>TA</td>\n",
       "      <td>Unf</td>\n",
       "      <td>Unf</td>\n",
       "      <td>Unf</td>\n",
       "      <td>No</td>\n",
       "    </tr>\n",
       "    <tr>\n",
       "      <th>5</th>\n",
       "      <td>Gd</td>\n",
       "      <td>TA</td>\n",
       "      <td>Gd</td>\n",
       "      <td>TA</td>\n",
       "      <td>Ex</td>\n",
       "      <td>Gd</td>\n",
       "      <td>MISSING</td>\n",
       "      <td>TA</td>\n",
       "      <td>TA</td>\n",
       "      <td>GLQ</td>\n",
       "      <td>Unf</td>\n",
       "      <td>Fin</td>\n",
       "      <td>No</td>\n",
       "    </tr>\n",
       "    <tr>\n",
       "      <th>...</th>\n",
       "      <td>...</td>\n",
       "      <td>...</td>\n",
       "      <td>...</td>\n",
       "      <td>...</td>\n",
       "      <td>...</td>\n",
       "      <td>...</td>\n",
       "      <td>...</td>\n",
       "      <td>...</td>\n",
       "      <td>...</td>\n",
       "      <td>...</td>\n",
       "      <td>...</td>\n",
       "      <td>...</td>\n",
       "      <td>...</td>\n",
       "    </tr>\n",
       "    <tr>\n",
       "      <th>759</th>\n",
       "      <td>TA</td>\n",
       "      <td>TA</td>\n",
       "      <td>TA</td>\n",
       "      <td>TA</td>\n",
       "      <td>Fa</td>\n",
       "      <td>Fa</td>\n",
       "      <td>Gd</td>\n",
       "      <td>Fa</td>\n",
       "      <td>Po</td>\n",
       "      <td>Unf</td>\n",
       "      <td>Unf</td>\n",
       "      <td>Unf</td>\n",
       "      <td>No</td>\n",
       "    </tr>\n",
       "    <tr>\n",
       "      <th>760</th>\n",
       "      <td>TA</td>\n",
       "      <td>TA</td>\n",
       "      <td>MISSING</td>\n",
       "      <td>MISSING</td>\n",
       "      <td>Ex</td>\n",
       "      <td>TA</td>\n",
       "      <td>Gd</td>\n",
       "      <td>TA</td>\n",
       "      <td>TA</td>\n",
       "      <td>MISSING</td>\n",
       "      <td>MISSING</td>\n",
       "      <td>Unf</td>\n",
       "      <td>MISSING</td>\n",
       "    </tr>\n",
       "    <tr>\n",
       "      <th>761</th>\n",
       "      <td>TA</td>\n",
       "      <td>TA</td>\n",
       "      <td>TA</td>\n",
       "      <td>TA</td>\n",
       "      <td>TA</td>\n",
       "      <td>TA</td>\n",
       "      <td>MISSING</td>\n",
       "      <td>TA</td>\n",
       "      <td>TA</td>\n",
       "      <td>BLQ</td>\n",
       "      <td>Unf</td>\n",
       "      <td>Unf</td>\n",
       "      <td>No</td>\n",
       "    </tr>\n",
       "    <tr>\n",
       "      <th>762</th>\n",
       "      <td>Gd</td>\n",
       "      <td>TA</td>\n",
       "      <td>Gd</td>\n",
       "      <td>TA</td>\n",
       "      <td>Ex</td>\n",
       "      <td>Gd</td>\n",
       "      <td>TA</td>\n",
       "      <td>TA</td>\n",
       "      <td>TA</td>\n",
       "      <td>GLQ</td>\n",
       "      <td>Unf</td>\n",
       "      <td>Fin</td>\n",
       "      <td>No</td>\n",
       "    </tr>\n",
       "    <tr>\n",
       "      <th>763</th>\n",
       "      <td>Gd</td>\n",
       "      <td>TA</td>\n",
       "      <td>Gd</td>\n",
       "      <td>TA</td>\n",
       "      <td>Ex</td>\n",
       "      <td>Gd</td>\n",
       "      <td>TA</td>\n",
       "      <td>TA</td>\n",
       "      <td>TA</td>\n",
       "      <td>GLQ</td>\n",
       "      <td>Unf</td>\n",
       "      <td>RFn</td>\n",
       "      <td>No</td>\n",
       "    </tr>\n",
       "  </tbody>\n",
       "</table>\n",
       "<p>2580 rows × 13 columns</p>\n",
       "</div>"
      ],
      "text/plain": [
       "    ExterQual ExterCond BsmtQual BsmtCond HeatingQC KitchenQual FireplaceQu  \\\n",
       "1          TA        TA       TA       TA        TA          TA          Gd   \n",
       "2          Gd        TA       Gd       TA        TA          Gd     MISSING   \n",
       "3          Gd        TA       TA       TA        Ex          Gd     MISSING   \n",
       "4          Gd        Gd       Fa       TA        Gd          TA     MISSING   \n",
       "5          Gd        TA       Gd       TA        Ex          Gd     MISSING   \n",
       "..        ...       ...      ...      ...       ...         ...         ...   \n",
       "759        TA        TA       TA       TA        Fa          Fa          Gd   \n",
       "760        TA        TA  MISSING  MISSING        Ex          TA          Gd   \n",
       "761        TA        TA       TA       TA        TA          TA     MISSING   \n",
       "762        Gd        TA       Gd       TA        Ex          Gd          TA   \n",
       "763        Gd        TA       Gd       TA        Ex          Gd          TA   \n",
       "\n",
       "    GarageQual GarageCond BsmtFinType1 BsmtFinType2 GarageFinish BsmtExposure  \n",
       "1           TA         TA          Rec          Unf          Unf           No  \n",
       "2           TA         TA          GLQ          ALQ          Fin           Mn  \n",
       "3           TA         Po          ALQ          Unf          Unf           No  \n",
       "4           TA         TA          Unf          Unf          Unf           No  \n",
       "5           TA         TA          GLQ          Unf          Fin           No  \n",
       "..         ...        ...          ...          ...          ...          ...  \n",
       "759         Fa         Po          Unf          Unf          Unf           No  \n",
       "760         TA         TA      MISSING      MISSING          Unf      MISSING  \n",
       "761         TA         TA          BLQ          Unf          Unf           No  \n",
       "762         TA         TA          GLQ          Unf          Fin           No  \n",
       "763         TA         TA          GLQ          Unf          RFn           No  \n",
       "\n",
       "[2580 rows x 13 columns]"
      ]
     },
     "execution_count": 29,
     "metadata": {},
     "output_type": "execute_result"
    }
   ],
   "source": [
    "housingdf[ordinals]"
   ]
  },
  {
   "cell_type": "markdown",
   "metadata": {},
   "source": [
    "### Combining dataframes"
   ]
  },
  {
   "cell_type": "code",
   "execution_count": 30,
   "metadata": {},
   "outputs": [],
   "source": [
    "# concat three dataframes: quantitative variables, nominal category vars, and ordinal category vars\n",
    "cleandf = pd.concat([h_quant,ord_df,ndummydf],axis=1)"
   ]
  },
  {
   "cell_type": "code",
   "execution_count": 31,
   "metadata": {},
   "outputs": [
    {
     "data": {
      "text/plain": [
       "1      1.0\n",
       "2      1.0\n",
       "3      0.0\n",
       "4      0.0\n",
       "5      1.0\n",
       "      ... \n",
       "759    0.0\n",
       "760    0.0\n",
       "761    0.0\n",
       "762    1.0\n",
       "763    0.0\n",
       "Name: BsmtFullBath, Length: 2580, dtype: float64"
      ]
     },
     "execution_count": 31,
     "metadata": {},
     "output_type": "execute_result"
    }
   ],
   "source": [
    "cleandf.BsmtFullBath"
   ]
  },
  {
   "cell_type": "markdown",
   "metadata": {},
   "source": [
    "### Feature Engineering"
   ]
  },
  {
   "cell_type": "code",
   "execution_count": 32,
   "metadata": {
    "scrolled": true
   },
   "outputs": [],
   "source": [
    "cleandf['Baths'] = cleandf['BsmtFullBath'] + (cleandf['BsmtHalfBath']/2) + cleandf['FullBath']+ (cleandf['HalfBath']/2)"
   ]
  },
  {
   "cell_type": "code",
   "execution_count": 33,
   "metadata": {},
   "outputs": [],
   "source": [
    "cleandf.drop(['BsmtFullBath','BsmtHalfBath','FullBath','HalfBath','PID'], axis=1,inplace=True)"
   ]
  },
  {
   "cell_type": "markdown",
   "metadata": {},
   "source": [
    "---"
   ]
  },
  {
   "cell_type": "markdown",
   "metadata": {},
   "source": [
    "## CSVs"
   ]
  },
  {
   "cell_type": "code",
   "execution_count": 34,
   "metadata": {},
   "outputs": [],
   "source": [
    "#cleandf.to_csv('cleanhome.csv',index=False)"
   ]
  },
  {
   "cell_type": "markdown",
   "metadata": {},
   "source": [
    "labelencoder introduces distance\n",
    "ordinal "
   ]
  },
  {
   "cell_type": "markdown",
   "metadata": {},
   "source": [
    "---"
   ]
  },
  {
   "cell_type": "markdown",
   "metadata": {},
   "source": [
    "## LassoCV"
   ]
  },
  {
   "cell_type": "code",
   "execution_count": 36,
   "metadata": {},
   "outputs": [],
   "source": [
    "from sklearn.linear_model import LassoCV\n",
    "from sklearn.model_selection import train_test_split"
   ]
  },
  {
   "cell_type": "code",
   "execution_count": 51,
   "metadata": {},
   "outputs": [],
   "source": [
    "X = cleandf.drop('SalePrice',axis=1)\n",
    "y = cleandf['SalePrice']\n",
    "X_train,X_test,y_train,y_test = train_test_split(X, y, test_size=0.2,random_state=42)"
   ]
  },
  {
   "cell_type": "code",
   "execution_count": 52,
   "metadata": {},
   "outputs": [
    {
     "name": "stdout",
     "output_type": "stream",
     "text": [
      "train score: 0.913126559940548\n",
      "test score: 0.9021507696816247\n"
     ]
    }
   ],
   "source": [
    "lcv = LassoCV(normalize=True)\n",
    "lcv.fit(X_train,y_train)\n",
    "\n",
    "print('train score:',lcv.score(X_train,y_train))\n",
    "print('test score:',lcv.score(X_test,y_test))"
   ]
  },
  {
   "cell_type": "markdown",
   "metadata": {},
   "source": [
    "looking at positive coefs"
   ]
  },
  {
   "cell_type": "code",
   "execution_count": 39,
   "metadata": {},
   "outputs": [],
   "source": [
    "coefs = pd.Series(lcv.coef_, index=X.columns).sort_values(ascending=False)"
   ]
  },
  {
   "cell_type": "code",
   "execution_count": 40,
   "metadata": {},
   "outputs": [
    {
     "data": {
      "text/plain": [
       "Neighborhood_GrnHill     58397.790151\n",
       "RoofMatl_WdShngl         55195.173802\n",
       "Exterior1st_PreCast      37544.212094\n",
       "Neighborhood_StoneBr     36716.951207\n",
       "Neighborhood_NridgHt     33930.544728\n",
       "Condition2_PosA          31359.958063\n",
       "Neighborhood_NoRidge     30396.741240\n",
       "SaleCondition_Partial    14438.445290\n",
       "Neighborhood_Somerst     14294.700862\n",
       "Neighborhood_Crawfor     11434.737025\n",
       "OverallQual               9372.476365\n",
       "SaleType_Con              8987.901994\n",
       "Exterior1st_BrkFace       8925.071632\n",
       "ExterQual                 8418.205741\n",
       "Functional_Typ            7811.837008\n",
       "KitchenQual               6115.199040\n",
       "LandContour_HLS           6054.069300\n",
       "Fireplaces                4763.731366\n",
       "BsmtExposure              4753.834361\n",
       "Condition1_Norm           4722.449685\n",
       "dtype: float64"
      ]
     },
     "execution_count": 40,
     "metadata": {},
     "output_type": "execute_result"
    }
   ],
   "source": [
    "coefs.nlargest(20)"
   ]
  },
  {
   "cell_type": "markdown",
   "metadata": {},
   "source": [
    "Greenbelts negatively affect saleprice in Ames "
   ]
  },
  {
   "cell_type": "code",
   "execution_count": 71,
   "metadata": {
    "scrolled": true
   },
   "outputs": [
    {
     "data": {
      "text/plain": [
       "Condition2_PosN        -116873.320657\n",
       "Heating_OthW            -21195.359553\n",
       "SaleCondition_Family    -17167.199765\n",
       "BldgType_Duplex          -8867.764741\n",
       "BldgType_Twnhs           -6420.255231\n",
       "BldgType_TwnhsE          -6093.002120\n",
       "RoofStyle_Mansard        -5783.144975\n",
       "Foundation_CBlock        -2396.560528\n",
       "LandSlope_Sev            -2386.063734\n",
       "Neighborhood_SWISU       -2183.057644\n",
       "BedroomAbvGr             -2165.753834\n",
       "Neighborhood_OldTown     -2001.847163\n",
       "Neighborhood_NWAmes      -1635.034150\n",
       "Neighborhood_NAmes       -1556.081442\n",
       "BsmtCond                 -1528.568322\n",
       "MasVnrType_BrkFace       -1524.987860\n",
       "Neighborhood_SawyerW     -1371.771871\n",
       "Exterior1st_Wd Sdng      -1293.781443\n",
       "Exterior2nd_Plywood       -919.107856\n",
       "KitchenAbvGr              -785.224649\n",
       "dtype: float64"
      ]
     },
     "execution_count": 71,
     "metadata": {},
     "output_type": "execute_result"
    }
   ],
   "source": [
    "coeffs[coeffs != 0].nsmallest(20)"
   ]
  },
  {
   "cell_type": "code",
   "execution_count": 75,
   "metadata": {
    "scrolled": true
   },
   "outputs": [
    {
     "data": {
      "text/plain": [
       "Neighborhood_Veenker   -0.0\n",
       "SaleType_ConLw          0.0\n",
       "SaleType_ConLI         -0.0\n",
       "Neighborhood_Timber    -0.0\n",
       "BldgType_2fmCon         0.0\n",
       "Condition1_Feedr       -0.0\n",
       "Exterior1st_WdShing    -0.0\n",
       "Exterior1st_Stucco      0.0\n",
       "Electrical_FuseF        0.0\n",
       "Exterior1st_MetalSd     0.0\n",
       "Exterior1st_ImStucc    -0.0\n",
       "Exterior1st_HdBoard    -0.0\n",
       "Exterior1st_CemntBd     0.0\n",
       "Exterior1st_CBlock      0.0\n",
       "Electrical_FuseP        0.0\n",
       "Exterior1st_BrkComm     0.0\n",
       "Exterior1st_AsphShn     0.0\n",
       "Functional_Min2        -0.0\n",
       "RoofMatl_WdShake       -0.0\n",
       "RoofMatl_Tar&Grv        0.0\n",
       "RoofMatl_Roll          -0.0\n",
       "RoofMatl_Metal          0.0\n",
       "Exterior1st_VinylSd     0.0\n",
       "Exterior2nd_AsphShn     0.0\n",
       "RoofStyle_Shed         -0.0\n",
       "Exterior2nd_Brk Cmn     0.0\n",
       "Heating_GasA           -0.0\n",
       "Foundation_PConc        0.0\n",
       "MasVnrType_MISSING     -0.0\n",
       "MasVnrType_Stone        0.0\n",
       "Heating_GasW            0.0\n",
       "Exterior2nd_Wd Shng    -0.0\n",
       "Exterior2nd_Wd Sdng    -0.0\n",
       "Heating_Grav            0.0\n",
       "Exterior2nd_Stucco      0.0\n",
       "Exterior2nd_Stone       0.0\n",
       "Exterior2nd_MetalSd     0.0\n",
       "Exterior2nd_ImStucc    -0.0\n",
       "CentralAir_Y           -0.0\n",
       "Exterior2nd_CBlock      0.0\n",
       "Exterior2nd_BrkFace    -0.0\n",
       "RoofMatl_Membran        0.0\n",
       "Electrical_SBrkr       -0.0\n",
       "Condition2_RRNn         0.0\n",
       "Condition1_RRAn         0.0\n",
       "Condition2_Feedr       -0.0\n",
       "Condition2_Norm         0.0\n",
       "Functional_Maj2        -0.0\n",
       "Electrical_MISSING      0.0\n",
       "Condition2_RRAe         0.0\n",
       "Condition2_RRAn        -0.0\n",
       "Condition1_RRAe        -0.0\n",
       "Condition1_RRNe        -0.0\n",
       "Condition1_RRNn        -0.0\n",
       "Condition1_PosA         0.0\n",
       "Functional_Min1         0.0\n",
       "HouseStyle_SFoyer       0.0\n",
       "RoofStyle_Gambrel      -0.0\n",
       "HouseStyle_1Story       0.0\n",
       "HouseStyle_2.5Fin      -0.0\n",
       "dtype: float64"
      ]
     },
     "execution_count": 75,
     "metadata": {},
     "output_type": "execute_result"
    }
   ],
   "source": [
    "coeffs[coeffs == 0][60:120]"
   ]
  },
  {
   "cell_type": "code",
   "execution_count": 47,
   "metadata": {
    "scrolled": true
   },
   "outputs": [
    {
     "data": {
      "text/html": [
       "<div>\n",
       "<style scoped>\n",
       "    .dataframe tbody tr th:only-of-type {\n",
       "        vertical-align: middle;\n",
       "    }\n",
       "\n",
       "    .dataframe tbody tr th {\n",
       "        vertical-align: top;\n",
       "    }\n",
       "\n",
       "    .dataframe thead th {\n",
       "        text-align: right;\n",
       "    }\n",
       "</style>\n",
       "<table border=\"1\" class=\"dataframe\">\n",
       "  <thead>\n",
       "    <tr style=\"text-align: right;\">\n",
       "      <th></th>\n",
       "      <th>PID</th>\n",
       "      <th>GrLivArea</th>\n",
       "      <th>SalePrice</th>\n",
       "      <th>MSSubClass</th>\n",
       "      <th>MSZoning</th>\n",
       "      <th>LotFrontage</th>\n",
       "      <th>LotArea</th>\n",
       "      <th>Street</th>\n",
       "      <th>LotShape</th>\n",
       "      <th>LandContour</th>\n",
       "      <th>...</th>\n",
       "      <th>OpenPorchSF</th>\n",
       "      <th>EnclosedPorch</th>\n",
       "      <th>3SsnPorch</th>\n",
       "      <th>ScreenPorch</th>\n",
       "      <th>PoolArea</th>\n",
       "      <th>MiscVal</th>\n",
       "      <th>MoSold</th>\n",
       "      <th>YrSold</th>\n",
       "      <th>SaleType</th>\n",
       "      <th>SaleCondition</th>\n",
       "    </tr>\n",
       "  </thead>\n",
       "  <tbody>\n",
       "    <tr>\n",
       "      <th>110</th>\n",
       "      <td>916253320</td>\n",
       "      <td>1502</td>\n",
       "      <td>330000</td>\n",
       "      <td>120</td>\n",
       "      <td>RM</td>\n",
       "      <td>0.0</td>\n",
       "      <td>9763</td>\n",
       "      <td>Pave</td>\n",
       "      <td>IR1</td>\n",
       "      <td>Lvl</td>\n",
       "      <td>...</td>\n",
       "      <td>0</td>\n",
       "      <td>0</td>\n",
       "      <td>0</td>\n",
       "      <td>0</td>\n",
       "      <td>0</td>\n",
       "      <td>0</td>\n",
       "      <td>9</td>\n",
       "      <td>2007</td>\n",
       "      <td>WD</td>\n",
       "      <td>Normal</td>\n",
       "    </tr>\n",
       "    <tr>\n",
       "      <th>684</th>\n",
       "      <td>916252170</td>\n",
       "      <td>1295</td>\n",
       "      <td>230000</td>\n",
       "      <td>120</td>\n",
       "      <td>RM</td>\n",
       "      <td>0.0</td>\n",
       "      <td>8239</td>\n",
       "      <td>Pave</td>\n",
       "      <td>IR1</td>\n",
       "      <td>Lvl</td>\n",
       "      <td>...</td>\n",
       "      <td>0</td>\n",
       "      <td>0</td>\n",
       "      <td>0</td>\n",
       "      <td>0</td>\n",
       "      <td>0</td>\n",
       "      <td>0</td>\n",
       "      <td>11</td>\n",
       "      <td>2006</td>\n",
       "      <td>WD</td>\n",
       "      <td>Normal</td>\n",
       "    </tr>\n",
       "  </tbody>\n",
       "</table>\n",
       "<p>2 rows × 77 columns</p>\n",
       "</div>"
      ],
      "text/plain": [
       "           PID  GrLivArea  SalePrice  MSSubClass MSZoning  LotFrontage  \\\n",
       "110  916253320       1502     330000         120       RM          0.0   \n",
       "684  916252170       1295     230000         120       RM          0.0   \n",
       "\n",
       "     LotArea Street LotShape LandContour  ... OpenPorchSF EnclosedPorch  \\\n",
       "110     9763   Pave      IR1         Lvl  ...           0             0   \n",
       "684     8239   Pave      IR1         Lvl  ...           0             0   \n",
       "\n",
       "    3SsnPorch ScreenPorch PoolArea MiscVal MoSold YrSold  SaleType  \\\n",
       "110         0           0        0       0      9   2007       WD    \n",
       "684         0           0        0       0     11   2006       WD    \n",
       "\n",
       "     SaleCondition  \n",
       "110         Normal  \n",
       "684         Normal  \n",
       "\n",
       "[2 rows x 77 columns]"
      ]
     },
     "execution_count": 47,
     "metadata": {},
     "output_type": "execute_result"
    }
   ],
   "source": [
    "housingdf.loc[housingdf.Neighborhood == 'GrnHill']"
   ]
  },
  {
   "cell_type": "code",
   "execution_count": 61,
   "metadata": {},
   "outputs": [
    {
     "data": {
      "text/plain": [
       "305307.93023255817"
      ]
     },
     "execution_count": 61,
     "metadata": {},
     "output_type": "execute_result"
    }
   ],
   "source": [
    "housingdf.loc[housingdf.Neighborhood == 'StoneBr']['SalePrice'].mean()"
   ]
  },
  {
   "cell_type": "code",
   "execution_count": 60,
   "metadata": {},
   "outputs": [
    {
     "data": {
      "text/plain": [
       "280000.0"
      ]
     },
     "execution_count": 60,
     "metadata": {},
     "output_type": "execute_result"
    }
   ],
   "source": [
    "housingdf.loc[housingdf.Neighborhood == 'GrnHill']['SalePrice'].mean()"
   ]
  },
  {
   "cell_type": "code",
   "execution_count": 59,
   "metadata": {},
   "outputs": [
    {
     "data": {
      "text/plain": [
       "313662.4958677686"
      ]
     },
     "execution_count": 59,
     "metadata": {},
     "output_type": "execute_result"
    }
   ],
   "source": [
    "housingdf.loc[housingdf.Neighborhood == 'NridgHt']['SalePrice'].mean()"
   ]
  },
  {
   "cell_type": "code",
   "execution_count": 58,
   "metadata": {},
   "outputs": [
    {
     "data": {
      "text/plain": [
       "145087.25853658537"
      ]
     },
     "execution_count": 58,
     "metadata": {},
     "output_type": "execute_result"
    }
   ],
   "source": [
    "housingdf.loc[housingdf.Neighborhood == 'NAmes']['SalePrice'].mean()"
   ]
  },
  {
   "cell_type": "code",
   "execution_count": 46,
   "metadata": {
    "scrolled": true
   },
   "outputs": [
    {
     "data": {
      "text/plain": [
       "NAmes      410\n",
       "CollgCr    236\n",
       "OldTown    213\n",
       "Edwards    165\n",
       "Gilbert    143\n",
       "Somerst    143\n",
       "Sawyer     139\n",
       "NWAmes     123\n",
       "NridgHt    121\n",
       "SawyerW    113\n",
       "Mitchel    104\n",
       "BrkSide    103\n",
       "Crawfor     93\n",
       "IDOTRR      76\n",
       "NoRidge     67\n",
       "Timber      54\n",
       "StoneBr     43\n",
       "SWISU       42\n",
       "ClearCr     40\n",
       "MeadowV     34\n",
       "BrDale      29\n",
       "Veenker     23\n",
       "Blmngtn     23\n",
       "NPkVill     22\n",
       "Blueste     10\n",
       "Greens       8\n",
       "GrnHill      2\n",
       "Landmrk      1\n",
       "Name: Neighborhood, dtype: int64"
      ]
     },
     "execution_count": 46,
     "metadata": {},
     "output_type": "execute_result"
    }
   ],
   "source": [
    "housingdf.Neighborhood.value_counts()"
   ]
  },
  {
   "cell_type": "code",
   "execution_count": 76,
   "metadata": {},
   "outputs": [
    {
     "data": {
      "text/plain": [
       "15.962888293971977"
      ]
     },
     "execution_count": 76,
     "metadata": {},
     "output_type": "execute_result"
    }
   ],
   "source": [
    "lcv.alpha_"
   ]
  },
  {
   "cell_type": "markdown",
   "metadata": {},
   "source": [
    "---"
   ]
  },
  {
   "cell_type": "markdown",
   "metadata": {},
   "source": [
    "## Lasso"
   ]
  },
  {
   "cell_type": "code",
   "execution_count": 95,
   "metadata": {},
   "outputs": [
    {
     "data": {
      "text/html": [
       "<div>\n",
       "<style scoped>\n",
       "    .dataframe tbody tr th:only-of-type {\n",
       "        vertical-align: middle;\n",
       "    }\n",
       "\n",
       "    .dataframe tbody tr th {\n",
       "        vertical-align: top;\n",
       "    }\n",
       "\n",
       "    .dataframe thead th {\n",
       "        text-align: right;\n",
       "    }\n",
       "</style>\n",
       "<table border=\"1\" class=\"dataframe\">\n",
       "  <thead>\n",
       "    <tr style=\"text-align: right;\">\n",
       "      <th></th>\n",
       "      <th>GrLivArea</th>\n",
       "      <th>MSSubClass</th>\n",
       "      <th>LotFrontage</th>\n",
       "      <th>LotArea</th>\n",
       "      <th>OverallQual</th>\n",
       "      <th>OverallCond</th>\n",
       "      <th>YearBuilt</th>\n",
       "      <th>YearRemodAdd</th>\n",
       "      <th>MasVnrArea</th>\n",
       "      <th>BsmtFinSF1</th>\n",
       "      <th>...</th>\n",
       "      <th>SaleCondition_Alloca</th>\n",
       "      <th>SaleCondition_Family</th>\n",
       "      <th>SaleCondition_Normal</th>\n",
       "      <th>SaleCondition_Partial</th>\n",
       "      <th>LotShape_IR2</th>\n",
       "      <th>LotShape_IR3</th>\n",
       "      <th>LotShape_Reg</th>\n",
       "      <th>LandSlope_Mod</th>\n",
       "      <th>LandSlope_Sev</th>\n",
       "      <th>Baths</th>\n",
       "    </tr>\n",
       "  </thead>\n",
       "  <tbody>\n",
       "    <tr>\n",
       "      <th>0.100</th>\n",
       "      <td>105.436629</td>\n",
       "      <td>-241.328914</td>\n",
       "      <td>39.361505</td>\n",
       "      <td>0.643244</td>\n",
       "      <td>18761.087538</td>\n",
       "      <td>2291.512306</td>\n",
       "      <td>513.487428</td>\n",
       "      <td>40.226470</td>\n",
       "      <td>19.947365</td>\n",
       "      <td>22.326154</td>\n",
       "      <td>...</td>\n",
       "      <td>21298.980306</td>\n",
       "      <td>-23248.450892</td>\n",
       "      <td>3567.082829</td>\n",
       "      <td>6572.429368</td>\n",
       "      <td>3366.558234</td>\n",
       "      <td>-21069.291145</td>\n",
       "      <td>-51.452705</td>\n",
       "      <td>4757.181325</td>\n",
       "      <td>-17120.711808</td>\n",
       "      <td>-1400.827145</td>\n",
       "    </tr>\n",
       "    <tr>\n",
       "      <th>5.075</th>\n",
       "      <td>104.516424</td>\n",
       "      <td>-232.889667</td>\n",
       "      <td>36.512759</td>\n",
       "      <td>0.602805</td>\n",
       "      <td>18642.543251</td>\n",
       "      <td>2264.127453</td>\n",
       "      <td>494.861664</td>\n",
       "      <td>56.507382</td>\n",
       "      <td>20.051107</td>\n",
       "      <td>21.852149</td>\n",
       "      <td>...</td>\n",
       "      <td>10664.803286</td>\n",
       "      <td>-21432.628431</td>\n",
       "      <td>3118.881074</td>\n",
       "      <td>3686.068274</td>\n",
       "      <td>1860.136440</td>\n",
       "      <td>-17047.853556</td>\n",
       "      <td>0.000000</td>\n",
       "      <td>2882.140626</td>\n",
       "      <td>-12960.308154</td>\n",
       "      <td>-1216.517385</td>\n",
       "    </tr>\n",
       "    <tr>\n",
       "      <th>10.050</th>\n",
       "      <td>103.398620</td>\n",
       "      <td>-224.127422</td>\n",
       "      <td>32.664554</td>\n",
       "      <td>0.566263</td>\n",
       "      <td>18541.956972</td>\n",
       "      <td>2255.477803</td>\n",
       "      <td>478.320769</td>\n",
       "      <td>60.108902</td>\n",
       "      <td>20.042901</td>\n",
       "      <td>21.305716</td>\n",
       "      <td>...</td>\n",
       "      <td>206.871462</td>\n",
       "      <td>-20413.981522</td>\n",
       "      <td>1110.902874</td>\n",
       "      <td>1892.842828</td>\n",
       "      <td>634.011715</td>\n",
       "      <td>-13140.997065</td>\n",
       "      <td>0.000000</td>\n",
       "      <td>1013.543079</td>\n",
       "      <td>-9284.854529</td>\n",
       "      <td>-921.779086</td>\n",
       "    </tr>\n",
       "    <tr>\n",
       "      <th>15.025</th>\n",
       "      <td>102.161973</td>\n",
       "      <td>-210.588280</td>\n",
       "      <td>30.408378</td>\n",
       "      <td>0.530669</td>\n",
       "      <td>18535.649946</td>\n",
       "      <td>2235.884441</td>\n",
       "      <td>463.097909</td>\n",
       "      <td>65.079210</td>\n",
       "      <td>19.921547</td>\n",
       "      <td>20.610031</td>\n",
       "      <td>...</td>\n",
       "      <td>0.000000</td>\n",
       "      <td>-19598.073712</td>\n",
       "      <td>0.000000</td>\n",
       "      <td>970.148114</td>\n",
       "      <td>0.000000</td>\n",
       "      <td>-8826.865608</td>\n",
       "      <td>0.000000</td>\n",
       "      <td>156.528334</td>\n",
       "      <td>-5428.724963</td>\n",
       "      <td>-500.882974</td>\n",
       "    </tr>\n",
       "    <tr>\n",
       "      <th>20.000</th>\n",
       "      <td>100.859666</td>\n",
       "      <td>-197.535181</td>\n",
       "      <td>28.126649</td>\n",
       "      <td>0.504341</td>\n",
       "      <td>18481.924955</td>\n",
       "      <td>2206.853555</td>\n",
       "      <td>446.542847</td>\n",
       "      <td>69.217739</td>\n",
       "      <td>19.819794</td>\n",
       "      <td>20.005439</td>\n",
       "      <td>...</td>\n",
       "      <td>0.000000</td>\n",
       "      <td>-17854.204455</td>\n",
       "      <td>0.000000</td>\n",
       "      <td>1126.475150</td>\n",
       "      <td>0.000000</td>\n",
       "      <td>-4482.266699</td>\n",
       "      <td>0.000000</td>\n",
       "      <td>0.000000</td>\n",
       "      <td>-1323.561675</td>\n",
       "      <td>-171.803948</td>\n",
       "    </tr>\n",
       "  </tbody>\n",
       "</table>\n",
       "<p>5 rows × 206 columns</p>\n",
       "</div>"
      ],
      "text/plain": [
       "         GrLivArea  MSSubClass  LotFrontage   LotArea   OverallQual  \\\n",
       "0.100   105.436629 -241.328914    39.361505  0.643244  18761.087538   \n",
       "5.075   104.516424 -232.889667    36.512759  0.602805  18642.543251   \n",
       "10.050  103.398620 -224.127422    32.664554  0.566263  18541.956972   \n",
       "15.025  102.161973 -210.588280    30.408378  0.530669  18535.649946   \n",
       "20.000  100.859666 -197.535181    28.126649  0.504341  18481.924955   \n",
       "\n",
       "        OverallCond   YearBuilt  YearRemodAdd  MasVnrArea  BsmtFinSF1  ...  \\\n",
       "0.100   2291.512306  513.487428     40.226470   19.947365   22.326154  ...   \n",
       "5.075   2264.127453  494.861664     56.507382   20.051107   21.852149  ...   \n",
       "10.050  2255.477803  478.320769     60.108902   20.042901   21.305716  ...   \n",
       "15.025  2235.884441  463.097909     65.079210   19.921547   20.610031  ...   \n",
       "20.000  2206.853555  446.542847     69.217739   19.819794   20.005439  ...   \n",
       "\n",
       "        SaleCondition_Alloca  SaleCondition_Family  SaleCondition_Normal  \\\n",
       "0.100           21298.980306         -23248.450892           3567.082829   \n",
       "5.075           10664.803286         -21432.628431           3118.881074   \n",
       "10.050            206.871462         -20413.981522           1110.902874   \n",
       "15.025              0.000000         -19598.073712              0.000000   \n",
       "20.000              0.000000         -17854.204455              0.000000   \n",
       "\n",
       "        SaleCondition_Partial  LotShape_IR2  LotShape_IR3  LotShape_Reg  \\\n",
       "0.100             6572.429368   3366.558234 -21069.291145    -51.452705   \n",
       "5.075             3686.068274   1860.136440 -17047.853556      0.000000   \n",
       "10.050            1892.842828    634.011715 -13140.997065      0.000000   \n",
       "15.025             970.148114      0.000000  -8826.865608      0.000000   \n",
       "20.000            1126.475150      0.000000  -4482.266699      0.000000   \n",
       "\n",
       "        LandSlope_Mod  LandSlope_Sev        Baths  \n",
       "0.100     4757.181325  -17120.711808 -1400.827145  \n",
       "5.075     2882.140626  -12960.308154 -1216.517385  \n",
       "10.050    1013.543079   -9284.854529  -921.779086  \n",
       "15.025     156.528334   -5428.724963  -500.882974  \n",
       "20.000       0.000000   -1323.561675  -171.803948  \n",
       "\n",
       "[5 rows x 206 columns]"
      ]
     },
     "execution_count": 95,
     "metadata": {},
     "output_type": "execute_result"
    }
   ],
   "source": [
    "from sklearn.linear_model import LinearRegression,Lasso\n",
    "lasso  = Lasso()\n",
    "alphas = np.linspace(0.1,20.,5)\n",
    "lasso.set_params(normalize=True,tol=0.1)\n",
    "coefs_lasso  = []\n",
    "\n",
    "for alpha in alphas:\n",
    "        lasso.set_params(alpha=alpha)\n",
    "        lasso.fit(X_train, y_train)  \n",
    "        coefs_lasso.append(lasso.coef_)\n",
    "\n",
    "coefs_lasso = pd.DataFrame(coefs_lasso, index = alphas, columns = X.columns)  \n",
    "coefs_lasso.head()"
   ]
  },
  {
   "cell_type": "code",
   "execution_count": 96,
   "metadata": {},
   "outputs": [
    {
     "data": {
      "text/plain": [
       "GrLivArea          100.859666\n",
       "MSSubClass        -197.535181\n",
       "LotFrontage         28.126649\n",
       "LotArea              0.504341\n",
       "OverallQual      18481.924955\n",
       "                     ...     \n",
       "LotShape_IR3     -4482.266699\n",
       "LotShape_Reg         0.000000\n",
       "LandSlope_Mod        0.000000\n",
       "LandSlope_Sev    -1323.561675\n",
       "Baths             -171.803948\n",
       "Length: 206, dtype: float64"
      ]
     },
     "execution_count": 96,
     "metadata": {},
     "output_type": "execute_result"
    }
   ],
   "source": [
    "pd.Series(lasso.coef_, index=X.columns)"
   ]
  },
  {
   "cell_type": "code",
   "execution_count": 106,
   "metadata": {},
   "outputs": [
    {
     "data": {
      "image/png": "[encoded data removed]",
      "text/plain": [
       "<Figure size 432x288 with 1 Axes>"
      ]
     },
     "metadata": {
      "needs_background": "light"
     },
     "output_type": "display_data"
    },
    {
     "data": {
      "text/plain": [
       "<Figure size 2880x720 with 0 Axes>"
      ]
     },
     "metadata": {},
     "output_type": "display_data"
    }
   ],
   "source": [
    "for name in coefs_lasso.columns:\n",
    "    plt.plot(coefs_lasso.index, coefs_lasso[name], label=name)\n",
    "plt.xlabel(r'hyperparameter $\\lambda$')\n",
    "plt.ylabel(r'slope values')\n",
    "plt.legend(loc=1)"
   ]
  },
  {
   "cell_type": "code",
   "execution_count": 122,
   "metadata": {},
   "outputs": [],
   "source": [
    "from sklearn.model_selection import train_test_split\n",
    "np.random.seed(100)  # changing the random seed can produce different scenarios which lead to exceptions\n",
    "Xtr, Xtst, ytr, ytst = train_test_split(X,y,test_size=0.2)"
   ]
  },
  {
   "cell_type": "code",
   "execution_count": 123,
   "metadata": {},
   "outputs": [],
   "source": [
    "lasso.set_params(normalize=True)\n",
    "\n",
    "lasso_scores_train = []\n",
    "lasso_scores_test  = []\n",
    "\n",
    "alphas = np.linspace(0.01, 1, 100)\n",
    "\n",
    "for alpha in alphas:\n",
    "            lasso.set_params(alpha=alpha)\n",
    "            lasso.fit(Xtr, ytr)\n",
    "            lasso_scores_train.append(lasso.score(Xtr, ytr))\n",
    "            lasso_scores_test.append(lasso.score(Xtst, ytst))\n",
    "lasso_scores_train = np.array(lasso_scores_train) \n",
    "lasso_scores_test  = np.array(lasso_scores_test)"
   ]
  },
  {
   "cell_type": "code",
   "execution_count": 118,
   "metadata": {},
   "outputs": [
    {
     "data": {
      "text/plain": [
       "array([0.90558698, 0.9055897 , 0.9055924 , 0.90559509, 0.90559777,\n",
       "       0.90560043, 0.90560308, 0.90560572, 0.90560834, 0.90561095,\n",
       "       0.90561354, 0.90561612, 0.90561869, 0.90562124, 0.90562378,\n",
       "       0.9056263 , 0.90562881, 0.90563131, 0.90563379, 0.90563625,\n",
       "       0.9056387 , 0.90564114, 0.90564356, 0.90564596, 0.90564835,\n",
       "       0.90565073, 0.90565309, 0.90565544, 0.90565777, 0.90566009,\n",
       "       0.90566239, 0.90566468, 0.90566696, 0.90566922, 0.90567146,\n",
       "       0.90567369, 0.90567591, 0.90567811, 0.9056803 , 0.90568248,\n",
       "       0.90568466, 0.90568682, 0.90568898, 0.90569111, 0.90569324,\n",
       "       0.90569534, 0.90569744, 0.90569952, 0.90570158, 0.90570363,\n",
       "       0.90570567, 0.90570769, 0.90570969, 0.90571169, 0.90571367,\n",
       "       0.90571563, 0.90571758, 0.90571952, 0.90572145, 0.90572337,\n",
       "       0.90572528, 0.90572718, 0.90572906, 0.90573092, 0.90573278,\n",
       "       0.90573461, 0.90573644, 0.90573825, 0.90574004, 0.90574182,\n",
       "       0.90574359, 0.90574534, 0.90574708, 0.9057488 , 0.9057505 ,\n",
       "       0.90575219, 0.90575386, 0.90575551, 0.90575716, 0.90575879,\n",
       "       0.9057604 , 0.90576202, 0.90576362, 0.9057652 , 0.90576677,\n",
       "       0.90576833, 0.90576987, 0.9057714 , 0.90577292, 0.90577443,\n",
       "       0.90577593, 0.90577742, 0.90577889, 0.90578035, 0.90578179,\n",
       "       0.90578322, 0.90578464, 0.90578604, 0.90578743, 0.90578881])"
      ]
     },
     "execution_count": 118,
     "metadata": {},
     "output_type": "execute_result"
    }
   ],
   "source": [
    "lasso_scores_train"
   ]
  }
 ],
 "metadata": {
  "kernelspec": {
   "display_name": "Python 3",
   "language": "python",
   "name": "python3"
  },
  "language_info": {
   "codemirror_mode": {
    "name": "ipython",
    "version": 3
   },
   "file_extension": ".py",
   "mimetype": "text/x-python",
   "name": "python",
   "nbconvert_exporter": "python",
   "pygments_lexer": "ipython3",
   "version": "3.8.3"
  }
 },
 "nbformat": 4,
 "nbformat_minor": 4
}
