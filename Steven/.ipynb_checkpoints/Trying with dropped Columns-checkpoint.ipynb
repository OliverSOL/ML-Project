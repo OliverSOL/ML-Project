{
 "cells": [
  {
   "cell_type": "code",
   "execution_count": 2,
   "metadata": {},
   "outputs": [],
   "source": [
    "import numpy as np\n",
    "import pandas as pd\n",
    "import seaborn as sns\n",
    "import re\n",
    "%matplotlib inline \n",
    "import matplotlib.pyplot as plt"
   ]
  },
  {
   "cell_type": "code",
   "execution_count": 3,
   "metadata": {},
   "outputs": [
    {
     "name": "stderr",
     "output_type": "stream",
     "text": [
      "C:\\Anaconda\\lib\\site-packages\\IPython\\core\\interactiveshell.py:3145: DtypeWarning: Columns (36,40,81,87) have mixed types.Specify dtype option on import or set low_memory=False.\n",
      "  has_raised = await self.run_ast_nodes(code_ast.body, cell_name,\n"
     ]
    }
   ],
   "source": [
    "housing = pd.read_csv('Ames_HousePrice.csv', index_col=0)\n",
    "real_est = pd.read_csv('Ames Real Estate Data.csv')\n",
    "\n",
    "#Creating a new total bathroom number feature\n",
    "housing['Baths'] = housing['BsmtFullBath'] + (housing['BsmtHalfBath']/2) + housing['FullBath']+ (housing['HalfBath']/2)\n",
    "\n",
    "housingdf = housing.copy()\n"
   ]
  },
  {
   "cell_type": "code",
   "execution_count": 66,
   "metadata": {},
   "outputs": [
    {
     "data": {
      "text/plain": [
       "178059.62325581396"
      ]
     },
     "execution_count": 66,
     "metadata": {},
     "output_type": "execute_result"
    }
   ],
   "source": [
    "housing.SalePrice.mean()"
   ]
  },
  {
   "cell_type": "code",
   "execution_count": 72,
   "metadata": {},
   "outputs": [
    {
     "data": {
      "text/plain": [
       "280000.0"
      ]
     },
     "execution_count": 72,
     "metadata": {},
     "output_type": "execute_result"
    }
   ],
   "source": [
    "housing.loc[housing.Neighborhood == 'GrnHill']['SalePrice'].mean()"
   ]
  },
  {
   "cell_type": "code",
   "execution_count": null,
   "metadata": {},
   "outputs": [],
   "source": []
  },
  {
   "cell_type": "code",
   "execution_count": 4,
   "metadata": {},
   "outputs": [],
   "source": [
    "housingdf.drop(columns=['PID','Street','Alley','Utilities','Neighborhood','Condition1',\n",
    "                    'Condition2','BldgType','HouseStyle', 'RoofMatl',\n",
    "                    'Exterior1st','Exterior2nd','MasVnrType','BsmtExposure',\n",
    "                    'BsmtFinType1','BsmtFinType2','Heating','1stFlrSF','2ndFlrSF','PoolQC',\n",
    "                     'MiscFeature','MiscVal','YrSold','MoSold','SaleType','SaleCondition',\n",
    "                     'BsmtFullBath','BsmtHalfBath','FullBath','HalfBath','MSSubClass',\n",
    "                     'LotConfig','Foundation','GarageYrBlt','Fence'],inplace=True)"
   ]
  },
  {
   "cell_type": "code",
   "execution_count": 5,
   "metadata": {},
   "outputs": [],
   "source": [
    "quant = [col for col in housingdf.columns if housingdf.dtypes[col] != 'object']\n",
    "qual = [col for col in housingdf.columns if housingdf.dtypes[col] == 'object']"
   ]
  },
  {
   "cell_type": "code",
   "execution_count": 6,
   "metadata": {},
   "outputs": [],
   "source": [
    "housingdf[quant] = housingdf.loc[:, quant].fillna(value=0)"
   ]
  },
  {
   "cell_type": "code",
   "execution_count": 7,
   "metadata": {},
   "outputs": [],
   "source": [
    "h_quant = housingdf.loc[:, quant]"
   ]
  },
  {
   "cell_type": "code",
   "execution_count": 8,
   "metadata": {},
   "outputs": [],
   "source": [
    "for col in qual:\n",
    "    housingdf[col] = housingdf[col].astype('category')\n",
    "    if housingdf[col].isnull().any():\n",
    "        housingdf[col] = housingdf[col].cat.add_categories(['MISSING'])\n",
    "        housingdf[col] = housingdf[col].fillna('MISSING')"
   ]
  },
  {
   "cell_type": "markdown",
   "metadata": {},
   "source": [
    "### Dummifying Nominal Features"
   ]
  },
  {
   "cell_type": "code",
   "execution_count": 9,
   "metadata": {},
   "outputs": [],
   "source": [
    "nominals = ['MSZoning','Street','LandContour','Utilities','LotConfig','Neighborhood',\n",
    "           'Condition1','Condition2','BldgType','HouseStyle','RoofStyle','RoofMatl','Exterior1st',\n",
    "           'Exterior2nd','MasVnrType','Foundation','Heating','CentralAir','Electrical',\n",
    "           'Functional','GarageType', 'PavedDrive', 'SaleType','SaleCondition','LotShape','LandSlope']"
   ]
  },
  {
   "cell_type": "code",
   "execution_count": 10,
   "metadata": {},
   "outputs": [],
   "source": [
    "noms = [q for q in qual if q in nominals]"
   ]
  },
  {
   "cell_type": "code",
   "execution_count": 11,
   "metadata": {},
   "outputs": [],
   "source": [
    "nomsdf = housingdf.loc[:, noms]"
   ]
  },
  {
   "cell_type": "code",
   "execution_count": 12,
   "metadata": {},
   "outputs": [],
   "source": [
    "nomsdummy = pd.get_dummies(nomsdf, drop_first=True)"
   ]
  },
  {
   "cell_type": "markdown",
   "metadata": {},
   "source": [
    "### Ordinal Encoder for Ordinal Features"
   ]
  },
  {
   "cell_type": "code",
   "execution_count": 13,
   "metadata": {},
   "outputs": [],
   "source": [
    "ords = [q for q in qual if q not in nominals]"
   ]
  },
  {
   "cell_type": "code",
   "execution_count": 14,
   "metadata": {},
   "outputs": [
    {
     "data": {
      "text/plain": [
       "['ExterQual',\n",
       " 'ExterCond',\n",
       " 'BsmtQual',\n",
       " 'BsmtCond',\n",
       " 'HeatingQC',\n",
       " 'KitchenQual',\n",
       " 'FireplaceQu',\n",
       " 'GarageFinish',\n",
       " 'GarageQual',\n",
       " 'GarageCond']"
      ]
     },
     "execution_count": 14,
     "metadata": {},
     "output_type": "execute_result"
    }
   ],
   "source": [
    "ords"
   ]
  },
  {
   "cell_type": "code",
   "execution_count": 15,
   "metadata": {},
   "outputs": [],
   "source": [
    "ord_df = housingdf.loc[:, ords]"
   ]
  },
  {
   "cell_type": "code",
   "execution_count": 16,
   "metadata": {},
   "outputs": [],
   "source": [
    "#dictionaries to assign ordinal values\n",
    "quality = {'MISSING':0,'Po':1,'Fa':2,'TA':3,'Gd':4,'Ex':5}\n",
    "finish = {'MISSING':0,'Unf':1,'RFn':2,'Fin':3}"
   ]
  },
  {
   "cell_type": "code",
   "execution_count": 17,
   "metadata": {},
   "outputs": [],
   "source": [
    "qc = ['ExterQual','ExterCond','BsmtQual','BsmtCond','HeatingQC', 'KitchenQual',\n",
    "      'FireplaceQu','GarageQual','GarageCond']\n",
    "for c in qc:\n",
    "    ord_df[c] = ord_df[c].map(quality) "
   ]
  },
  {
   "cell_type": "code",
   "execution_count": 18,
   "metadata": {},
   "outputs": [],
   "source": [
    "ord_df['GarageFinish'] = ord_df['GarageFinish'].map(finish)"
   ]
  },
  {
   "cell_type": "code",
   "execution_count": 19,
   "metadata": {},
   "outputs": [
    {
     "data": {
      "text/html": [
       "<div>\n",
       "<style scoped>\n",
       "    .dataframe tbody tr th:only-of-type {\n",
       "        vertical-align: middle;\n",
       "    }\n",
       "\n",
       "    .dataframe tbody tr th {\n",
       "        vertical-align: top;\n",
       "    }\n",
       "\n",
       "    .dataframe thead th {\n",
       "        text-align: right;\n",
       "    }\n",
       "</style>\n",
       "<table border=\"1\" class=\"dataframe\">\n",
       "  <thead>\n",
       "    <tr style=\"text-align: right;\">\n",
       "      <th></th>\n",
       "      <th>ExterQual</th>\n",
       "      <th>ExterCond</th>\n",
       "      <th>BsmtQual</th>\n",
       "      <th>BsmtCond</th>\n",
       "      <th>HeatingQC</th>\n",
       "      <th>KitchenQual</th>\n",
       "      <th>FireplaceQu</th>\n",
       "      <th>GarageFinish</th>\n",
       "      <th>GarageQual</th>\n",
       "      <th>GarageCond</th>\n",
       "    </tr>\n",
       "  </thead>\n",
       "  <tbody>\n",
       "    <tr>\n",
       "      <th>1</th>\n",
       "      <td>3</td>\n",
       "      <td>3</td>\n",
       "      <td>3</td>\n",
       "      <td>3</td>\n",
       "      <td>3</td>\n",
       "      <td>3</td>\n",
       "      <td>4</td>\n",
       "      <td>1</td>\n",
       "      <td>3</td>\n",
       "      <td>3</td>\n",
       "    </tr>\n",
       "    <tr>\n",
       "      <th>2</th>\n",
       "      <td>4</td>\n",
       "      <td>3</td>\n",
       "      <td>4</td>\n",
       "      <td>3</td>\n",
       "      <td>3</td>\n",
       "      <td>4</td>\n",
       "      <td>0</td>\n",
       "      <td>3</td>\n",
       "      <td>3</td>\n",
       "      <td>3</td>\n",
       "    </tr>\n",
       "    <tr>\n",
       "      <th>3</th>\n",
       "      <td>4</td>\n",
       "      <td>3</td>\n",
       "      <td>3</td>\n",
       "      <td>3</td>\n",
       "      <td>5</td>\n",
       "      <td>4</td>\n",
       "      <td>0</td>\n",
       "      <td>1</td>\n",
       "      <td>3</td>\n",
       "      <td>1</td>\n",
       "    </tr>\n",
       "    <tr>\n",
       "      <th>4</th>\n",
       "      <td>4</td>\n",
       "      <td>4</td>\n",
       "      <td>2</td>\n",
       "      <td>3</td>\n",
       "      <td>4</td>\n",
       "      <td>3</td>\n",
       "      <td>0</td>\n",
       "      <td>1</td>\n",
       "      <td>3</td>\n",
       "      <td>3</td>\n",
       "    </tr>\n",
       "    <tr>\n",
       "      <th>5</th>\n",
       "      <td>4</td>\n",
       "      <td>3</td>\n",
       "      <td>4</td>\n",
       "      <td>3</td>\n",
       "      <td>5</td>\n",
       "      <td>4</td>\n",
       "      <td>0</td>\n",
       "      <td>3</td>\n",
       "      <td>3</td>\n",
       "      <td>3</td>\n",
       "    </tr>\n",
       "    <tr>\n",
       "      <th>...</th>\n",
       "      <td>...</td>\n",
       "      <td>...</td>\n",
       "      <td>...</td>\n",
       "      <td>...</td>\n",
       "      <td>...</td>\n",
       "      <td>...</td>\n",
       "      <td>...</td>\n",
       "      <td>...</td>\n",
       "      <td>...</td>\n",
       "      <td>...</td>\n",
       "    </tr>\n",
       "    <tr>\n",
       "      <th>759</th>\n",
       "      <td>3</td>\n",
       "      <td>3</td>\n",
       "      <td>3</td>\n",
       "      <td>3</td>\n",
       "      <td>2</td>\n",
       "      <td>2</td>\n",
       "      <td>4</td>\n",
       "      <td>1</td>\n",
       "      <td>2</td>\n",
       "      <td>1</td>\n",
       "    </tr>\n",
       "    <tr>\n",
       "      <th>760</th>\n",
       "      <td>3</td>\n",
       "      <td>3</td>\n",
       "      <td>0</td>\n",
       "      <td>0</td>\n",
       "      <td>5</td>\n",
       "      <td>3</td>\n",
       "      <td>4</td>\n",
       "      <td>1</td>\n",
       "      <td>3</td>\n",
       "      <td>3</td>\n",
       "    </tr>\n",
       "    <tr>\n",
       "      <th>761</th>\n",
       "      <td>3</td>\n",
       "      <td>3</td>\n",
       "      <td>3</td>\n",
       "      <td>3</td>\n",
       "      <td>3</td>\n",
       "      <td>3</td>\n",
       "      <td>0</td>\n",
       "      <td>1</td>\n",
       "      <td>3</td>\n",
       "      <td>3</td>\n",
       "    </tr>\n",
       "    <tr>\n",
       "      <th>762</th>\n",
       "      <td>4</td>\n",
       "      <td>3</td>\n",
       "      <td>4</td>\n",
       "      <td>3</td>\n",
       "      <td>5</td>\n",
       "      <td>4</td>\n",
       "      <td>3</td>\n",
       "      <td>3</td>\n",
       "      <td>3</td>\n",
       "      <td>3</td>\n",
       "    </tr>\n",
       "    <tr>\n",
       "      <th>763</th>\n",
       "      <td>4</td>\n",
       "      <td>3</td>\n",
       "      <td>4</td>\n",
       "      <td>3</td>\n",
       "      <td>5</td>\n",
       "      <td>4</td>\n",
       "      <td>3</td>\n",
       "      <td>2</td>\n",
       "      <td>3</td>\n",
       "      <td>3</td>\n",
       "    </tr>\n",
       "  </tbody>\n",
       "</table>\n",
       "<p>2580 rows × 10 columns</p>\n",
       "</div>"
      ],
      "text/plain": [
       "    ExterQual ExterCond BsmtQual BsmtCond HeatingQC KitchenQual FireplaceQu  \\\n",
       "1           3         3        3        3         3           3           4   \n",
       "2           4         3        4        3         3           4           0   \n",
       "3           4         3        3        3         5           4           0   \n",
       "4           4         4        2        3         4           3           0   \n",
       "5           4         3        4        3         5           4           0   \n",
       "..        ...       ...      ...      ...       ...         ...         ...   \n",
       "759         3         3        3        3         2           2           4   \n",
       "760         3         3        0        0         5           3           4   \n",
       "761         3         3        3        3         3           3           0   \n",
       "762         4         3        4        3         5           4           3   \n",
       "763         4         3        4        3         5           4           3   \n",
       "\n",
       "    GarageFinish GarageQual GarageCond  \n",
       "1              1          3          3  \n",
       "2              3          3          3  \n",
       "3              1          3          1  \n",
       "4              1          3          3  \n",
       "5              3          3          3  \n",
       "..           ...        ...        ...  \n",
       "759            1          2          1  \n",
       "760            1          3          3  \n",
       "761            1          3          3  \n",
       "762            3          3          3  \n",
       "763            2          3          3  \n",
       "\n",
       "[2580 rows x 10 columns]"
      ]
     },
     "execution_count": 19,
     "metadata": {},
     "output_type": "execute_result"
    }
   ],
   "source": [
    "ord_df"
   ]
  },
  {
   "cell_type": "markdown",
   "metadata": {},
   "source": [
    "### Combining Dataframes"
   ]
  },
  {
   "cell_type": "code",
   "execution_count": 20,
   "metadata": {},
   "outputs": [],
   "source": [
    "cleandropped = pd.concat([h_quant,ord_df,nomsdummy],axis=1)"
   ]
  },
  {
   "cell_type": "markdown",
   "metadata": {},
   "source": [
    "---"
   ]
  },
  {
   "cell_type": "markdown",
   "metadata": {},
   "source": [
    "# Regression "
   ]
  },
  {
   "cell_type": "code",
   "execution_count": 21,
   "metadata": {},
   "outputs": [],
   "source": [
    "from sklearn.linear_model import LassoCV\n",
    "from sklearn.model_selection import train_test_split"
   ]
  },
  {
   "cell_type": "code",
   "execution_count": 52,
   "metadata": {},
   "outputs": [],
   "source": [
    "X = cleandropped.drop('SalePrice',axis=1)\n",
    "y = (cleandropped['SalePrice'])\n",
    "X_train,X_test,y_train,y_test = train_test_split(X, y, test_size=0.2,random_state=42)"
   ]
  },
  {
   "cell_type": "code",
   "execution_count": 53,
   "metadata": {},
   "outputs": [],
   "source": [
    "lcv = LassoCV(normalize=True).fit(X_train,y_train)"
   ]
  },
  {
   "cell_type": "code",
   "execution_count": 54,
   "metadata": {},
   "outputs": [
    {
     "name": "stdout",
     "output_type": "stream",
     "text": [
      "The train set R^2 is 0.8867\n",
      "The test set R^2 is 0.8848\n"
     ]
    }
   ],
   "source": [
    "print(\"The train set R^2 is %.4f\" %lcv.score(X_train,y_train))\n",
    "print(\"The test set R^2 is %.4f\" %lcv.score(X_test,y_test))"
   ]
  },
  {
   "cell_type": "code",
   "execution_count": 55,
   "metadata": {},
   "outputs": [
    {
     "data": {
      "text/plain": [
       "-617283.7898857626"
      ]
     },
     "execution_count": 55,
     "metadata": {},
     "output_type": "execute_result"
    }
   ],
   "source": [
    "lcv.intercept_"
   ]
  },
  {
   "cell_type": "code",
   "execution_count": 56,
   "metadata": {},
   "outputs": [],
   "source": [
    "coefs = pd.Series(lcv.coef_, index=X.columns).sort_values(ascending=False)"
   ]
  },
  {
   "cell_type": "code",
   "execution_count": 58,
   "metadata": {},
   "outputs": [
    {
     "data": {
      "text/plain": [
       "Functional_Typ        22671.789827\n",
       "LandContour_HLS       20529.915524\n",
       "GarageType_MISSING    14967.491351\n",
       "Functional_Min2       14045.840088\n",
       "Functional_Min1       13658.289057\n",
       "RoofStyle_Shed        12216.275538\n",
       "ExterQual             10961.402822\n",
       "LandContour_Low       10559.496126\n",
       "GarageType_CarPort    10241.220629\n",
       "OverallQual           10124.103792\n",
       "MSZoning_I (all)       9267.580363\n",
       "LandContour_Lvl        7895.982396\n",
       "KitchenQual            6856.072154\n",
       "Functional_Maj2        6656.477846\n",
       "LandSlope_Mod          5789.152248\n",
       "OverallCond            5698.463696\n",
       "Functional_Sal         5605.651804\n",
       "Fireplaces             5461.915599\n",
       "LotShape_IR2           4746.906641\n",
       "BsmtQual               4717.910617\n",
       "GarageType_BuiltIn     4247.866189\n",
       "GarageType_Detchd      4038.390626\n",
       "HeatingQC              2365.487849\n",
       "MSZoning_FV            2213.448391\n",
       "GarageCars             1878.461040\n",
       "dtype: float64"
      ]
     },
     "execution_count": 58,
     "metadata": {},
     "output_type": "execute_result"
    }
   ],
   "source": [
    "coefs.nlargest(25)"
   ]
  },
  {
   "cell_type": "code",
   "execution_count": 59,
   "metadata": {},
   "outputs": [],
   "source": [
    "feats = cleandropped[['GrLivArea', 'LotFrontage', 'LotArea', 'OverallQual', 'OverallCond',\n",
    "            'YearBuilt', 'ExterQual', 'BsmtFinSF1', \n",
    "            'TotalBsmtSF','KitchenAbvGr', 'KitchenQual','Fireplaces', 'GarageArea', \n",
    "            'ScreenPorch','MSZoning_FV',]]"
   ]
  },
  {
   "cell_type": "code",
   "execution_count": 60,
   "metadata": {},
   "outputs": [],
   "source": [
    "X = feats\n",
    "y = (cleandropped['SalePrice'])\n",
    "X_train,X_test,y_train,y_test = train_test_split(X, y, test_size=0.2,random_state=42)"
   ]
  },
  {
   "cell_type": "code",
   "execution_count": 65,
   "metadata": {},
   "outputs": [
    {
     "data": {
      "text/plain": [
       "ExterQual       16344.264008\n",
       "OverallQual     11643.215763\n",
       "KitchenQual      9370.672667\n",
       "Fireplaces       6937.076389\n",
       "OverallCond      4486.844260\n",
       "YearBuilt         277.734067\n",
       "LotFrontage       102.686025\n",
       "GrLivArea          50.367426\n",
       "ScreenPorch        42.094876\n",
       "GarageArea         31.657832\n",
       "BsmtFinSF1         22.493940\n",
       "TotalBsmtSF        21.907253\n",
       "LotArea             0.573052\n",
       "MSZoning_FV      -446.452133\n",
       "KitchenAbvGr   -16014.823719\n",
       "dtype: float64"
      ]
     },
     "execution_count": 65,
     "metadata": {},
     "output_type": "execute_result"
    }
   ],
   "source": [
    "lcvt = LassoCV(normalize=True).fit(X_train,y_train)\n",
    "pd.Series(lcvt.coef_, index=X.columns).sort_values(ascending=False)"
   ]
  },
  {
   "cell_type": "markdown",
   "metadata": {},
   "source": [
    "## np log"
   ]
  },
  {
   "cell_type": "code",
   "execution_count": 29,
   "metadata": {},
   "outputs": [
    {
     "name": "stdout",
     "output_type": "stream",
     "text": [
      "--------------------------------------------------\n",
      "The train set R^2 is 0.9068\n",
      "The test set R^2 is 0.9170\n"
     ]
    }
   ],
   "source": [
    "\n",
    "features = cleandropped.drop('SalePrice',axis=1)\n",
    "target = np.log(cleandropped['SalePrice'])\n",
    "X_train1,X_test1,y_train1,y_test1 = train_test_split(features, target, test_size=0.2,random_state=42)\n",
    "\n",
    "lcvlog = LassoCV(normalize=True).fit(X_train1, y_train1)\n",
    "\n",
    "print('-'*50)\n",
    "print(\"The train set R^2 is %.4f\" %(lcvlog.score(X_train1, y_train1)))\n",
    "print(\"The test set R^2 is %.4f\" %(lcvlog.score(X_test1, y_test1)))"
   ]
  },
  {
   "cell_type": "code",
   "execution_count": 30,
   "metadata": {},
   "outputs": [
    {
     "data": {
      "text/plain": [
       "OverallQual          0.071193\n",
       "CentralAir_Y         0.045982\n",
       "OverallCond          0.040076\n",
       "LandSlope_Mod        0.033991\n",
       "GarageCars           0.028629\n",
       "Functional_Typ       0.028070\n",
       "LandContour_HLS      0.026382\n",
       "KitchenQual          0.023848\n",
       "Fireplaces           0.023111\n",
       "ExterQual            0.017789\n",
       "HeatingQC            0.017288\n",
       "MSZoning_FV          0.014492\n",
       "GarageType_Attchd    0.014219\n",
       "Baths                0.010771\n",
       "BsmtQual             0.008841\n",
       "dtype: float64"
      ]
     },
     "execution_count": 30,
     "metadata": {},
     "output_type": "execute_result"
    }
   ],
   "source": [
    "pd.Series(lcvlog.coef_, index=X.columns).sort_values(ascending=False).nlargest(15)"
   ]
  },
  {
   "cell_type": "markdown",
   "metadata": {},
   "source": [
    "## dropping columns that have zero effect on sale price"
   ]
  },
  {
   "cell_type": "code",
   "execution_count": 31,
   "metadata": {},
   "outputs": [],
   "source": [
    "cleanv2 = cleandropped.drop(['Baths','BsmtUnfSF','GarageType_Attchd','Electrical_MISSING',\n",
    "                  '3SsnPorch','MSZoning_RL','RoofStyle_Hip','FireplaceQu'],axis=1)"
   ]
  },
  {
   "cell_type": "code",
   "execution_count": 32,
   "metadata": {},
   "outputs": [],
   "source": [
    "X2= cleanv2.drop('SalePrice',axis=1)\n",
    "y2 = cleanv2['SalePrice']\n",
    "\n",
    "X2_train,X2_test,y2_train,y2_test = train_test_split(X2, y2, test_size=0.2,random_state=42)"
   ]
  },
  {
   "cell_type": "code",
   "execution_count": 33,
   "metadata": {},
   "outputs": [
    {
     "data": {
      "text/plain": [
       "LassoCV(normalize=True)"
      ]
     },
     "execution_count": 33,
     "metadata": {},
     "output_type": "execute_result"
    }
   ],
   "source": [
    "lcv = LassoCV(normalize=True)\n",
    "lcv.fit(X2_train,y2_train)"
   ]
  },
  {
   "cell_type": "code",
   "execution_count": 34,
   "metadata": {},
   "outputs": [
    {
     "name": "stdout",
     "output_type": "stream",
     "text": [
      "train score: 0.8867281105602688\n",
      "test score: 0.8848580399214497\n"
     ]
    }
   ],
   "source": [
    "print('train score:',lcv.score(X2_train,y2_train))\n",
    "print('test score:',lcv.score(X2_test,y2_test))"
   ]
  },
  {
   "cell_type": "code",
   "execution_count": 35,
   "metadata": {},
   "outputs": [
    {
     "data": {
      "text/plain": [
       "Functional_Typ        24192.969431\n",
       "LandContour_HLS       20822.104203\n",
       "Functional_Min2       15652.486129\n",
       "Functional_Min1       15267.866201\n",
       "GarageType_MISSING    15243.647598\n",
       "RoofStyle_Shed        12640.749638\n",
       "LandContour_Low       10960.034162\n",
       "ExterQual             10925.134708\n",
       "GarageType_CarPort    10673.214516\n",
       "OverallQual           10105.232701\n",
       "MSZoning_I (all)       9462.611206\n",
       "Functional_Maj2        8448.319794\n",
       "LandContour_Lvl        8131.219001\n",
       "Functional_Sal         7914.949272\n",
       "KitchenQual            6840.666466\n",
       "LandSlope_Mod          5789.786196\n",
       "OverallCond            5749.454975\n",
       "Fireplaces             5467.235863\n",
       "LotShape_IR2           4801.785696\n",
       "BsmtQual               4752.533133\n",
       "GarageType_BuiltIn     4294.561422\n",
       "GarageType_Detchd      4195.688103\n",
       "Functional_Mod         3230.983301\n",
       "HeatingQC              2372.508998\n",
       "MSZoning_FV            2315.295850\n",
       "dtype: float64"
      ]
     },
     "execution_count": 35,
     "metadata": {},
     "output_type": "execute_result"
    }
   ],
   "source": [
    "pd.Series(lcv.coef_, index=X2.columns).sort_values(ascending=False).nlargest(25)"
   ]
  },
  {
   "cell_type": "markdown",
   "metadata": {},
   "source": [
    "---"
   ]
  },
  {
   "cell_type": "code",
   "execution_count": 36,
   "metadata": {
    "scrolled": true
   },
   "outputs": [
    {
     "name": "stdout",
     "output_type": "stream",
     "text": [
      "                            OLS Regression Results                            \n",
      "==============================================================================\n",
      "Dep. Variable:              SalePrice   R-squared:                       0.888\n",
      "Model:                            OLS   Adj. R-squared:                  0.885\n",
      "Method:                 Least Squares   F-statistic:                     272.4\n",
      "Date:                Sun, 29 Nov 2020   Prob (F-statistic):               0.00\n",
      "Time:                        20:12:41   Log-Likelihood:                -29798.\n",
      "No. Observations:                2580   AIC:                         5.974e+04\n",
      "Df Residuals:                    2506   BIC:                         6.018e+04\n",
      "Df Model:                          73                                         \n",
      "Covariance Type:            nonrobust                                         \n",
      "======================================================================================\n",
      "                         coef    std err          t      P>|t|      [0.025      0.975]\n",
      "--------------------------------------------------------------------------------------\n",
      "const              -6.552e+05   9.83e+04     -6.667      0.000   -8.48e+05   -4.63e+05\n",
      "GrLivArea             53.7484      2.510     21.411      0.000      48.826      58.671\n",
      "LotFrontage           94.5694     16.697      5.664      0.000      61.828     127.311\n",
      "LotArea                0.6327      0.087      7.261      0.000       0.462       0.804\n",
      "OverallQual         9852.2050    713.121     13.816      0.000    8453.838    1.13e+04\n",
      "OverallCond         5890.9933    640.429      9.199      0.000    4635.168    7146.818\n",
      "YearBuilt            260.1924     40.059      6.495      0.000     181.640     338.745\n",
      "YearRemodAdd          17.8852     39.867      0.449      0.654     -60.290      96.060\n",
      "MasVnrArea            26.8284      3.434      7.812      0.000      20.094      33.563\n",
      "BsmtFinSF1            19.2015      1.287     14.917      0.000      16.677      21.726\n",
      "BsmtFinSF2            10.3505      2.293      4.513      0.000       5.853      14.848\n",
      "BsmtUnfSF             -3.6938      1.258     -2.937      0.003      -6.160      -1.227\n",
      "TotalBsmtSF           25.8582      1.539     16.798      0.000      22.840      28.877\n",
      "LowQualFinSF         -25.1421     11.903     -2.112      0.035     -48.482      -1.802\n",
      "BedroomAbvGr       -7777.6231    983.543     -7.908      0.000   -9706.264   -5848.982\n",
      "KitchenAbvGr       -2.217e+04   3130.857     -7.081      0.000   -2.83e+04    -1.6e+04\n",
      "TotRmsAbvGrd        2740.6120    705.209      3.886      0.000    1357.760    4123.464\n",
      "Fireplaces          4983.3089   1666.156      2.991      0.003    1716.125    8250.493\n",
      "GarageCars          1498.3221   1729.060      0.867      0.386   -1892.210    4888.854\n",
      "GarageArea            34.3239      5.751      5.968      0.000      23.046      45.602\n",
      "WoodDeckSF            11.3384      4.384      2.586      0.010       2.741      19.936\n",
      "OpenPorchSF          -16.4873      8.451     -1.951      0.051     -33.060       0.085\n",
      "EnclosedPorch         13.1877      8.766      1.504      0.133      -4.002      30.378\n",
      "3SsnPorch              0.4395     20.080      0.022      0.983     -38.936      39.815\n",
      "ScreenPorch           35.5380      9.374      3.791      0.000      17.156      53.920\n",
      "PoolArea             -13.6980     17.214     -0.796      0.426     -47.453      20.057\n",
      "Baths              -1108.3617   1100.969     -1.007      0.314   -3267.263    1050.540\n",
      "ExterQual           1.109e+04   1556.315      7.126      0.000    8038.608    1.41e+04\n",
      "ExterCond           -378.6607   1513.933     -0.250      0.803   -3347.349    2590.027\n",
      "BsmtQual            4358.0435   1158.259      3.763      0.000    2086.801    6629.286\n",
      "BsmtCond           -8335.6652   1387.349     -6.008      0.000   -1.11e+04   -5615.198\n",
      "HeatingQC           2392.9942    671.650      3.563      0.000    1075.949    3710.039\n",
      "KitchenQual         7338.2586   1241.431      5.911      0.000    4903.923    9772.595\n",
      "FireplaceQu          113.1410    608.793      0.186      0.853   -1080.649    1306.931\n",
      "GarageFinish        1319.2208    880.478      1.498      0.134    -407.318    3045.759\n",
      "GarageQual         -1803.7133   2460.363     -0.733      0.464   -6628.267    3020.840\n",
      "GarageCond          -677.0070   2620.865     -0.258      0.796   -5816.290    4462.276\n",
      "MSZoning_C (all)   -2.194e+04   2.73e+04     -0.805      0.421   -7.54e+04    3.15e+04\n",
      "MSZoning_FV        -6743.5974   2.66e+04     -0.253      0.800   -5.89e+04    4.54e+04\n",
      "MSZoning_I (all)     -58.6312   3.23e+04     -0.002      0.999   -6.34e+04    6.33e+04\n",
      "MSZoning_RH        -2.175e+04   2.71e+04     -0.803      0.422   -7.49e+04    3.14e+04\n",
      "MSZoning_RL        -8894.5354   2.65e+04     -0.336      0.737   -6.08e+04     4.3e+04\n",
      "MSZoning_RM         -1.56e+04   2.65e+04     -0.589      0.556   -6.76e+04    3.64e+04\n",
      "LotShape_IR2        5627.7466   3255.350      1.729      0.084    -755.705     1.2e+04\n",
      "LotShape_IR3       -1.493e+04   7447.404     -2.004      0.045   -2.95e+04    -322.497\n",
      "LotShape_Reg       -2624.7845   1227.354     -2.139      0.033   -5031.517    -218.052\n",
      "LandContour_HLS     2.277e+04   3862.644      5.896      0.000    1.52e+04    3.03e+04\n",
      "LandContour_Low     8627.9209   4988.670      1.730      0.084   -1154.418    1.84e+04\n",
      "LandContour_Lvl     6009.6888   2906.465      2.068      0.039     310.370    1.17e+04\n",
      "LandSlope_Mod       4082.6476   3022.864      1.351      0.177   -1844.920       1e+04\n",
      "LandSlope_Sev      -1.848e+04   9448.249     -1.956      0.051    -3.7e+04      46.882\n",
      "RoofStyle_Gable    -1.212e+04   6800.379     -1.782      0.075   -2.55e+04    1215.426\n",
      "RoofStyle_Gambrel  -1.317e+04   9238.195     -1.425      0.154   -3.13e+04    4949.120\n",
      "RoofStyle_Hip      -8870.9191   6895.536     -1.286      0.198   -2.24e+04    4650.614\n",
      "RoofStyle_Mansard  -4.034e+04   1.06e+04     -3.798      0.000   -6.12e+04   -1.95e+04\n",
      "RoofStyle_Shed     -7133.7413   1.48e+04     -0.483      0.629   -3.61e+04    2.18e+04\n",
      "CentralAir_Y       -6360.5375   2691.654     -2.363      0.018   -1.16e+04   -1082.443\n",
      "Electrical_FuseF    1701.7035   4727.214      0.360      0.719   -7567.943     1.1e+04\n",
      "Electrical_FuseP    3445.1506   1.02e+04      0.338      0.735   -1.65e+04    2.34e+04\n",
      "Electrical_SBrkr   -4081.4563   2228.303     -1.832      0.067   -8450.961     288.048\n",
      "Electrical_MISSING  2.185e+04   2.57e+04      0.849      0.396   -2.86e+04    7.23e+04\n",
      "Functional_Maj2     1.542e+04   1.16e+04      1.327      0.185   -7361.716    3.82e+04\n",
      "Functional_Min1     1.651e+04   7112.522      2.322      0.020    2566.430    3.05e+04\n",
      "Functional_Min2      2.17e+04   7029.910      3.087      0.002    7916.593    3.55e+04\n",
      "Functional_Mod      1.228e+04   7819.911      1.571      0.116   -3052.136    2.76e+04\n",
      "Functional_Sal      2.004e+04   2.67e+04      0.751      0.453   -3.23e+04    7.24e+04\n",
      "Functional_Typ      2.843e+04   6324.941      4.495      0.000     1.6e+04    4.08e+04\n",
      "GarageType_Attchd   1.268e+04   5993.803      2.116      0.034     926.656    2.44e+04\n",
      "GarageType_Basment  9184.2893   7767.659      1.182      0.237   -6047.400    2.44e+04\n",
      "GarageType_BuiltIn  1.721e+04   6436.807      2.674      0.008    4591.162    2.98e+04\n",
      "GarageType_CarPort  2.269e+04   1.04e+04      2.176      0.030    2242.547    4.31e+04\n",
      "GarageType_Detchd    1.85e+04   5974.385      3.097      0.002    6784.972    3.02e+04\n",
      "GarageType_MISSING  2.739e+04   9742.746      2.811      0.005    8283.371    4.65e+04\n",
      "PavedDrive_P       -1549.9611   3953.327     -0.392      0.695   -9302.084    6202.162\n",
      "PavedDrive_Y       -2606.5900   2487.171     -1.048      0.295   -7483.711    2270.531\n",
      "==============================================================================\n",
      "Omnibus:                      895.024   Durbin-Watson:                   2.026\n",
      "Prob(Omnibus):                  0.000   Jarque-Bera (JB):           118957.628\n",
      "Skew:                          -0.560   Prob(JB):                         0.00\n",
      "Kurtosis:                      36.246   Cond. No.                     1.24e+16\n",
      "==============================================================================\n",
      "\n",
      "Notes:\n",
      "[1] Standard Errors assume that the covariance matrix of the errors is correctly specified.\n",
      "[2] The smallest eigenvalue is 2.94e-21. This might indicate that there are\n",
      "strong multicollinearity problems or that the design matrix is singular.\n",
      "0.88807463436675\n"
     ]
    }
   ],
   "source": [
    "import statsmodels.api as sm \n",
    "X_add_const = sm.add_constant(X)\n",
    "ols = sm.OLS(y, X_add_const)\n",
    "ans = ols.fit()\n",
    "print(ans.summary())\n",
    "print(ans.rsquared)"
   ]
  }
 ],
 "metadata": {
  "kernelspec": {
   "display_name": "Python 3",
   "language": "python",
   "name": "python3"
  },
  "language_info": {
   "codemirror_mode": {
    "name": "ipython",
    "version": 3
   },
   "file_extension": ".py",
   "mimetype": "text/x-python",
   "name": "python",
   "nbconvert_exporter": "python",
   "pygments_lexer": "ipython3",
   "version": "3.8.3"
  }
 },
 "nbformat": 4,
 "nbformat_minor": 4
}
