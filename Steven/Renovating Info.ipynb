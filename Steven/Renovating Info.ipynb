{
 "cells": [
  {
   "cell_type": "markdown",
   "metadata": {},
   "source": [
    "# Feature Analysis\n",
    "\n",
    "### ExterQual\n",
    "\n",
    "- The average home exterior makeover cost is around $7,700\n",
    "\n",
    "- includes exterior painting, landscaping, door and window updates, porch railing, and decorations.\n",
    "- one of the cheaper parts of your home to revamp, and the value that it adds to your home when it is all said and done makes the investment well worth it.\n",
    "\n",
    "https://www.brickandbatten.com/how-much-does-a-home-exterior-makeover-cost/\n",
    "\n",
    "### Landslop\n",
    "\n",
    "- Average Cost to Reslope a Lawn - 1,925(400-$5100) \n",
    "\n",
    "https://www.homeadvisor.com/cost/landscape/reslope-a-lawn/\n",
    "\n",
    "### Kitchen Quality\n",
    "- 100-250 (usd) per square foot\n",
    "- 12,800 - 21,200 (usd) range\n",
    "- average cost of $16,600 (usd) or 150 (usd) per square foot\n",
    "\n",
    "https://homeguide.com/costs/kitchen-remodel-cost\n",
    "\n",
    "### Fireplaces\n",
    "National Fireplace Costs\n",
    "- Ranges from $390 (usd) to 2000 (usd)\n",
    "\n",
    "- Can boost a home's value by as much as $15,000 in certain parts of the country\n",
    "\n",
    "https://www.improvenet.com/r/costs-and-prices/fireplace-remodeling-cost\n"
   ]
  },
  {
   "cell_type": "code",
   "execution_count": null,
   "metadata": {},
   "outputs": [],
   "source": []
  }
 ],
 "metadata": {
  "kernelspec": {
   "display_name": "Python 3",
   "language": "python",
   "name": "python3"
  },
  "language_info": {
   "codemirror_mode": {
    "name": "ipython",
    "version": 3
   },
   "file_extension": ".py",
   "mimetype": "text/x-python",
   "name": "python",
   "nbconvert_exporter": "python",
   "pygments_lexer": "ipython3",
   "version": "3.8.3"
  }
 },
 "nbformat": 4,
 "nbformat_minor": 4
}
