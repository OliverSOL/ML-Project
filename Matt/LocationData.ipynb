{
 "cells": [
  {
   "cell_type": "code",
   "execution_count": 1,
   "metadata": {},
   "outputs": [
    {
     "name": "stderr",
     "output_type": "stream",
     "text": [
      "/Users/Matt/opt/anaconda3/lib/python3.7/site-packages/statsmodels/tools/_testing.py:19: FutureWarning: pandas.util.testing is deprecated. Use the functions in the public API at pandas.testing instead.\n",
      "  import pandas.util.testing as tm\n",
      "/Users/Matt/opt/anaconda3/lib/python3.7/site-packages/IPython/core/interactiveshell.py:3063: DtypeWarning: Columns (36,40,81,87) have mixed types.Specify dtype option on import or set low_memory=False.\n",
      "  interactivity=interactivity, compiler=compiler, result=result)\n"
     ]
    }
   ],
   "source": [
    "import numpy as np\n",
    "import pandas as pd\n",
    "import seaborn as sns\n",
    "import matplotlib.pyplot as plt\n",
    "%matplotlib inline \n",
    "import geopy\n",
    "from geopy import Nominatim\n",
    "from geopy.extra.rate_limiter import RateLimiter\n",
    "\n",
    "housing = pd.read_csv('Ames_HousePrice.csv', index_col=0)\n",
    "address = pd.read_csv('Ames Real Estate Data.csv')"
   ]
  },
  {
   "cell_type": "code",
   "execution_count": null,
   "metadata": {},
   "outputs": [],
   "source": [
    "#Remove the duplicated row (index 1 and index 817 are identical)\n",
    "housing = housing.drop_duplicates()\n",
    "housing.shape"
   ]
  },
  {
   "cell_type": "code",
   "execution_count": null,
   "metadata": {},
   "outputs": [],
   "source": [
    "#Check that all PIDs are in the reference set\n",
    "print(housing.PID[housing.PID.isin(address.GeoRefNo)].shape)\n",
    "#20 are missing\n",
    "housing.PID[~housing.PID.isin(address.GeoRefNo)]\n"
   ]
  },
  {
   "cell_type": "code",
   "execution_count": null,
   "metadata": {},
   "outputs": [],
   "source": [
    "#Subset housing houses that have a match\n",
    "housing = housing[housing.PID.isin(address.GeoRefNo)]\n",
    "\n",
    "#Subset address on properties that have a match in housing, dropping extraneous columsn and duplicates\n",
    "subset = address[address.GeoRefNo.isin(housing.PID)]\n",
    "subset = subset[['GeoRefNo','Prop_Addr']].drop_duplicates()\n",
    "subset"
   ]
  },
  {
   "cell_type": "code",
   "execution_count": null,
   "metadata": {},
   "outputs": [],
   "source": [
    "locator = Nominatim(user_agent=\"MH-ML\")\n",
    "geocode = RateLimiter(locator.geocode, min_delay_seconds=1.5)\n",
    "locations = [geocode(addr+', Ames, Iowa') if type(addr)==str else None for addr in subset.Prop_Addr.values]"
   ]
  },
  {
   "cell_type": "code",
   "execution_count": null,
   "metadata": {},
   "outputs": [],
   "source": [
    "lats = []\n",
    "for i in range(len(locations)):\n",
    "    if locations[i]==None:\n",
    "        lats.append(locations[i])\n",
    "        continue\n",
    "    lats.append(locations[i].latitude)\n",
    "subset['lat'] = lats"
   ]
  },
  {
   "cell_type": "code",
   "execution_count": null,
   "metadata": {},
   "outputs": [],
   "source": [
    "longs = []\n",
    "for i in range(len(locations)):\n",
    "    if locations[i]==None:\n",
    "        longs.append(locations[i])\n",
    "        continue\n",
    "    longs.append(locations[i].longitude)\n",
    "subset['long'] = longs"
   ]
  },
  {
   "cell_type": "code",
   "execution_count": null,
   "metadata": {},
   "outputs": [],
   "source": [
    "merged = pd.merge(housing,subset,left_on='PID',right_on='GeoRefNo',how='left')\n",
    "merged.to_csv('Ames_HousePrice_withAddress.csv')"
   ]
  }
 ],
 "metadata": {
  "kernelspec": {
   "display_name": "Python 3",
   "language": "python",
   "name": "python3"
  },
  "language_info": {
   "codemirror_mode": {
    "name": "ipython",
    "version": 3
   },
   "file_extension": ".py",
   "mimetype": "text/x-python",
   "name": "python",
   "nbconvert_exporter": "python",
   "pygments_lexer": "ipython3",
   "version": "3.7.4"
  }
 },
 "nbformat": 4,
 "nbformat_minor": 2
}
